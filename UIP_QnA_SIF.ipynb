{
  "nbformat": 4,
  "nbformat_minor": 0,
  "metadata": {
    "colab": {
      "name": "UIP-QnA-SIF.ipynb",
      "provenance": [],
      "authorship_tag": "ABX9TyNJKvpu8qpMgu1ExBnS8lAV",
      "include_colab_link": true
    },
    "kernelspec": {
      "name": "python3",
      "display_name": "Python 3"
    },
    "accelerator": "GPU"
  },
  "cells": [
    {
      "cell_type": "markdown",
      "metadata": {
        "id": "view-in-github",
        "colab_type": "text"
      },
      "source": [
        "<a href=\"https://colab.research.google.com/github/harpreetvirkk/NLP-QuestionAnswerSystem/blob/main/UIP_QnA_SIF.ipynb\" target=\"_parent\"><img src=\"https://colab.research.google.com/assets/colab-badge.svg\" alt=\"Open In Colab\"/></a>"
      ]
    },
    {
      "cell_type": "code",
      "metadata": {
        "colab": {
          "base_uri": "https://localhost:8080/"
        },
        "id": "Dgl3jdv_vcMa",
        "outputId": "5f556746-0ae2-43bf-9af6-89a5ab16a128"
      },
      "source": [
        "!pip3 install fse"
      ],
      "execution_count": 1,
      "outputs": [
        {
          "output_type": "stream",
          "text": [
            "Collecting fse\n",
            "\u001b[?25l  Downloading https://files.pythonhosted.org/packages/0f/59/7c431afd8717322fba20fb7b08f7d07ed94c26d8c4955d854b05f196101e/fse-0.1.15.tar.gz (109kB)\n",
            "\r\u001b[K     |███                             | 10kB 25.5MB/s eta 0:00:01\r\u001b[K     |██████                          | 20kB 17.8MB/s eta 0:00:01\r\u001b[K     |█████████                       | 30kB 15.2MB/s eta 0:00:01\r\u001b[K     |████████████                    | 40kB 15.0MB/s eta 0:00:01\r\u001b[K     |███████████████                 | 51kB 12.0MB/s eta 0:00:01\r\u001b[K     |██████████████████              | 61kB 13.1MB/s eta 0:00:01\r\u001b[K     |█████████████████████           | 71kB 12.7MB/s eta 0:00:01\r\u001b[K     |████████████████████████        | 81kB 12.9MB/s eta 0:00:01\r\u001b[K     |███████████████████████████     | 92kB 13.3MB/s eta 0:00:01\r\u001b[K     |██████████████████████████████  | 102kB 13.3MB/s eta 0:00:01\r\u001b[K     |████████████████████████████████| 112kB 13.3MB/s \n",
            "\u001b[?25hRequirement already satisfied: numpy>=1.11.3 in /usr/local/lib/python3.6/dist-packages (from fse) (1.18.5)\n",
            "Requirement already satisfied: scipy>=0.18.1 in /usr/local/lib/python3.6/dist-packages (from fse) (1.4.1)\n",
            "Requirement already satisfied: smart_open>=1.5.0 in /usr/local/lib/python3.6/dist-packages (from fse) (3.0.0)\n",
            "Requirement already satisfied: scikit-learn>=0.19.1 in /usr/local/lib/python3.6/dist-packages (from fse) (0.22.2.post1)\n",
            "Collecting gensim>=3.8.0\n",
            "\u001b[?25l  Downloading https://files.pythonhosted.org/packages/2b/e0/fa6326251692056dc880a64eb22117e03269906ba55a6864864d24ec8b4e/gensim-3.8.3-cp36-cp36m-manylinux1_x86_64.whl (24.2MB)\n",
            "\u001b[K     |████████████████████████████████| 24.2MB 1.4MB/s \n",
            "\u001b[?25hCollecting wordfreq>=2.2.1\n",
            "\u001b[?25l  Downloading https://files.pythonhosted.org/packages/8f/24/a4c3d79335c2c35d84d1728614ff9115999f7218f30f73f29c81778accc7/wordfreq-2.3.2.tar.gz (32.8MB)\n",
            "\u001b[K     |████████████████████████████████| 32.8MB 98kB/s \n",
            "\u001b[?25hRequirement already satisfied: psutil in /usr/local/lib/python3.6/dist-packages (from fse) (5.4.8)\n",
            "Requirement already satisfied: requests in /usr/local/lib/python3.6/dist-packages (from smart_open>=1.5.0->fse) (2.23.0)\n",
            "Requirement already satisfied: joblib>=0.11 in /usr/local/lib/python3.6/dist-packages (from scikit-learn>=0.19.1->fse) (0.17.0)\n",
            "Requirement already satisfied: six>=1.5.0 in /usr/local/lib/python3.6/dist-packages (from gensim>=3.8.0->fse) (1.15.0)\n",
            "Requirement already satisfied: msgpack>=1.0 in /usr/local/lib/python3.6/dist-packages (from wordfreq>=2.2.1->fse) (1.0.0)\n",
            "Collecting langcodes>=2\n",
            "\u001b[?25l  Downloading https://files.pythonhosted.org/packages/09/f7/51b1d31a1ec3023c8eb4b2e11e1571d714c990fa64baf352d5a30f6f9d83/langcodes-2.1.0.tar.gz (5.0MB)\n",
            "\u001b[K     |████████████████████████████████| 5.0MB 45.6MB/s \n",
            "\u001b[?25hRequirement already satisfied: regex in /usr/local/lib/python3.6/dist-packages (from wordfreq>=2.2.1->fse) (2019.12.20)\n",
            "Requirement already satisfied: idna<3,>=2.5 in /usr/local/lib/python3.6/dist-packages (from requests->smart_open>=1.5.0->fse) (2.10)\n",
            "Requirement already satisfied: urllib3!=1.25.0,!=1.25.1,<1.26,>=1.21.1 in /usr/local/lib/python3.6/dist-packages (from requests->smart_open>=1.5.0->fse) (1.24.3)\n",
            "Requirement already satisfied: chardet<4,>=3.0.2 in /usr/local/lib/python3.6/dist-packages (from requests->smart_open>=1.5.0->fse) (3.0.4)\n",
            "Requirement already satisfied: certifi>=2017.4.17 in /usr/local/lib/python3.6/dist-packages (from requests->smart_open>=1.5.0->fse) (2020.11.8)\n",
            "Collecting marisa-trie\n",
            "\u001b[?25l  Downloading https://files.pythonhosted.org/packages/20/95/d23071d0992dabcb61c948fb118a90683193befc88c23e745b050a29e7db/marisa-trie-0.7.5.tar.gz (270kB)\n",
            "\u001b[K     |████████████████████████████████| 276kB 39.7MB/s \n",
            "\u001b[?25hBuilding wheels for collected packages: fse, wordfreq, langcodes, marisa-trie\n",
            "  Building wheel for fse (setup.py) ... \u001b[?25l\u001b[?25hdone\n",
            "  Created wheel for fse: filename=fse-0.1.15-cp36-cp36m-linux_x86_64.whl size=255572 sha256=07ba197942e982db1c2f184b7a2e08e2af7d4361aca6356bc72f4f9b298afaaa\n",
            "  Stored in directory: /root/.cache/pip/wheels/c9/f9/00/f323d92e0091436ce32f54cb7760b8a229469a184f940c2a4d\n",
            "  Building wheel for wordfreq (setup.py) ... \u001b[?25l\u001b[?25hdone\n",
            "  Created wheel for wordfreq: filename=wordfreq-2.3.2-cp36-none-any.whl size=32817239 sha256=8f748fbe9b8880e4f65e0c5c18a5b3837735c918dcd697cf714d10db2ef646e2\n",
            "  Stored in directory: /root/.cache/pip/wheels/8d/ba/84/ba6be76208bd2c2124b6586f7967fb87e9f9fb4b4827e5e2c9\n",
            "  Building wheel for langcodes (setup.py) ... \u001b[?25l\u001b[?25hdone\n",
            "  Created wheel for langcodes: filename=langcodes-2.1.0-cp36-none-any.whl size=5068034 sha256=ccc3694ac4ac8282bfc5eb6ca767401f94cb723034e39ac9a516292229180d28\n",
            "  Stored in directory: /root/.cache/pip/wheels/f7/aa/f5/285652c17bb68a5f6d30bdfeebb517d210cabe18268fcb80b5\n",
            "  Building wheel for marisa-trie (setup.py) ... \u001b[?25l\u001b[?25hdone\n",
            "  Created wheel for marisa-trie: filename=marisa_trie-0.7.5-cp36-cp36m-linux_x86_64.whl size=861142 sha256=fdef550004826cfd4a669bf40c92e982f2df14204bbc5e8ac5324a93fbc9a24f\n",
            "  Stored in directory: /root/.cache/pip/wheels/45/24/79/022624fc914f0e559fe8a1141aaff1f9df810905a13fc75d57\n",
            "Successfully built fse wordfreq langcodes marisa-trie\n",
            "Installing collected packages: gensim, marisa-trie, langcodes, wordfreq, fse\n",
            "  Found existing installation: gensim 3.6.0\n",
            "    Uninstalling gensim-3.6.0:\n",
            "      Successfully uninstalled gensim-3.6.0\n",
            "Successfully installed fse-0.1.15 gensim-3.8.3 langcodes-2.1.0 marisa-trie-0.7.5 wordfreq-2.3.2\n"
          ],
          "name": "stdout"
        }
      ]
    },
    {
      "cell_type": "code",
      "metadata": {
        "colab": {
          "base_uri": "https://localhost:8080/"
        },
        "id": "bc2Iy3Xx5R1L",
        "outputId": "1409d9d0-26eb-463a-8ba5-950b2d7332d0"
      },
      "source": [
        "import os\n",
        "!git clone -l -s https://github.com/harpreetvirkk/NLP-QuestionAnswerSystem rep\n",
        "%cd rep\n",
        "!ls dataset"
      ],
      "execution_count": 2,
      "outputs": [
        {
          "output_type": "stream",
          "text": [
            "Cloning into 'rep'...\n",
            "warning: --local is ignored\n",
            "remote: Enumerating objects: 159, done.\u001b[K\n",
            "remote: Counting objects: 100% (159/159), done.\u001b[K\n",
            "remote: Compressing objects: 100% (140/140), done.\u001b[K\n",
            "remote: Total 159 (delta 17), reused 153 (delta 17), pack-reused 0\u001b[K\n",
            "Receiving objects: 100% (159/159), 1.52 MiB | 22.89 MiB/s, done.\n",
            "Resolving deltas: 100% (17/17), done.\n",
            "/content/rep\n",
            "S08_question_answer_pairs.txt  S10_question_answer_pairs.txt  text_data_toc.csv\n",
            "S09_question_answer_pairs.txt  text_data\n"
          ],
          "name": "stdout"
        }
      ]
    },
    {
      "cell_type": "code",
      "metadata": {
        "colab": {
          "base_uri": "https://localhost:8080/"
        },
        "id": "-IYxcl2w5R67",
        "outputId": "b82b1845-4faa-4a44-feb0-b0521742c645"
      },
      "source": [
        "import pandas as pd\n",
        "import numpy as np\n",
        "import re\n",
        "import unicodedata\n",
        "import fse\n",
        "from fse import SplitIndexedList\n",
        "import gensim.downloader as api\n",
        "from fse.models import uSIF\n",
        "from sklearn import metrics\n",
        "import nltk\n",
        "nltk.download('wordnet')\n",
        "nltk.download('stopwords')\n",
        "from nltk.corpus import stopwords\n",
        "from nltk.tokenize import word_tokenize  \n",
        "import logging\n",
        "# logging.basicConfig(format='%(asctime)s : %(threadName)s : %(levelname)s : %(message)s', level=logging.INFO)\n",
        "pd.set_option('display.max_colwidth', -1)"
      ],
      "execution_count": 34,
      "outputs": [
        {
          "output_type": "stream",
          "text": [
            "[nltk_data] Downloading package wordnet to /root/nltk_data...\n",
            "[nltk_data]   Package wordnet is already up-to-date!\n",
            "[nltk_data] Downloading package stopwords to /root/nltk_data...\n",
            "[nltk_data]   Package stopwords is already up-to-date!\n"
          ],
          "name": "stdout"
        },
        {
          "output_type": "stream",
          "text": [
            "/usr/local/lib/python3.6/dist-packages/ipykernel_launcher.py:17: FutureWarning: Passing a negative integer is deprecated in version 1.0 and will not be supported in future version. Instead, use None to not limit the column width.\n"
          ],
          "name": "stderr"
        }
      ]
    },
    {
      "cell_type": "code",
      "metadata": {
        "id": "yo1QWJSC5SFO"
      },
      "source": [
        "df1 = pd.read_csv('./dataset/S08_question_answer_pairs.txt', sep='\\t')\n",
        "df2 = pd.read_csv('./dataset/S09_question_answer_pairs.txt', sep='\\t')\n",
        "df3 = pd.read_csv('./dataset/S10_question_answer_pairs.txt', sep='\\t', encoding = 'ISO-8859-1')\n",
        "frames = [df1, df2, df3]\n",
        "df = pd.concat(frames)"
      ],
      "execution_count": 19,
      "outputs": []
    },
    {
      "cell_type": "code",
      "metadata": {
        "id": "YqfLHxx75sBz"
      },
      "source": [
        "def getArticleText(file):\n",
        "  fpath = './dataset/text_data/'+file+'.txt.clean'\n",
        "  try:\n",
        "    f = open(fpath, 'r')\n",
        "    text = f.read()\n",
        "  except UnicodeDecodeError:\n",
        "    f = open(fpath, 'r', encoding = 'ISO-8859-1')\n",
        "    text = f.read()\n",
        "  return text"
      ],
      "execution_count": 20,
      "outputs": []
    },
    {
      "cell_type": "code",
      "metadata": {
        "colab": {
          "base_uri": "https://localhost:8080/",
          "height": 419
        },
        "id": "ZP3M6dxt5sL4",
        "outputId": "ce6b59e0-8e00-49c1-c030-9e8ba8cd5b59"
      },
      "source": [
        "df = df.dropna(subset=['ArticleFile'])\n",
        "df['ArticleText'] = df['ArticleFile'].apply(lambda x: getArticleText(x))\n",
        "df['ArticleText'] = df['ArticleText'].apply(lambda x: re.sub(r'(\\n)+', '. ', x))\n",
        "df = df.drop(['DifficultyFromQuestioner', 'DifficultyFromAnswerer', 'ArticleFile'], axis='columns')\n",
        "df"
      ],
      "execution_count": 21,
      "outputs": [
        {
          "output_type": "execute_result",
          "data": {
            "text/html": [
              "<div>\n",
              "<style scoped>\n",
              "    .dataframe tbody tr th:only-of-type {\n",
              "        vertical-align: middle;\n",
              "    }\n",
              "\n",
              "    .dataframe tbody tr th {\n",
              "        vertical-align: top;\n",
              "    }\n",
              "\n",
              "    .dataframe thead th {\n",
              "        text-align: right;\n",
              "    }\n",
              "</style>\n",
              "<table border=\"1\" class=\"dataframe\">\n",
              "  <thead>\n",
              "    <tr style=\"text-align: right;\">\n",
              "      <th></th>\n",
              "      <th>ArticleTitle</th>\n",
              "      <th>Question</th>\n",
              "      <th>Answer</th>\n",
              "      <th>ArticleText</th>\n",
              "    </tr>\n",
              "  </thead>\n",
              "  <tbody>\n",
              "    <tr>\n",
              "      <th>0</th>\n",
              "      <td>Abraham_Lincoln</td>\n",
              "      <td>Was Abraham Lincoln the sixteenth President of...</td>\n",
              "      <td>yes</td>\n",
              "      <td>Abraham Lincoln. Abraham Lincoln (February 12,...</td>\n",
              "    </tr>\n",
              "    <tr>\n",
              "      <th>1</th>\n",
              "      <td>Abraham_Lincoln</td>\n",
              "      <td>Was Abraham Lincoln the sixteenth President of...</td>\n",
              "      <td>Yes.</td>\n",
              "      <td>Abraham Lincoln. Abraham Lincoln (February 12,...</td>\n",
              "    </tr>\n",
              "    <tr>\n",
              "      <th>2</th>\n",
              "      <td>Abraham_Lincoln</td>\n",
              "      <td>Did Lincoln sign the National Banking Act of 1...</td>\n",
              "      <td>yes</td>\n",
              "      <td>Abraham Lincoln. Abraham Lincoln (February 12,...</td>\n",
              "    </tr>\n",
              "    <tr>\n",
              "      <th>3</th>\n",
              "      <td>Abraham_Lincoln</td>\n",
              "      <td>Did Lincoln sign the National Banking Act of 1...</td>\n",
              "      <td>Yes.</td>\n",
              "      <td>Abraham Lincoln. Abraham Lincoln (February 12,...</td>\n",
              "    </tr>\n",
              "    <tr>\n",
              "      <th>4</th>\n",
              "      <td>Abraham_Lincoln</td>\n",
              "      <td>Did his mother die of pneumonia?</td>\n",
              "      <td>no</td>\n",
              "      <td>Abraham Lincoln. Abraham Lincoln (February 12,...</td>\n",
              "    </tr>\n",
              "    <tr>\n",
              "      <th>...</th>\n",
              "      <td>...</td>\n",
              "      <td>...</td>\n",
              "      <td>...</td>\n",
              "      <td>...</td>\n",
              "    </tr>\n",
              "    <tr>\n",
              "      <th>1453</th>\n",
              "      <td>Zebra</td>\n",
              "      <td>What areas do the Grevy's Zebras inhabit?</td>\n",
              "      <td>NaN</td>\n",
              "      <td>Zebra. Plains zebra. Grevy's zebra. Zebras are...</td>\n",
              "    </tr>\n",
              "    <tr>\n",
              "      <th>1454</th>\n",
              "      <td>Zebra</td>\n",
              "      <td>Which species of zebra is known as the common ...</td>\n",
              "      <td>Plains Zebra (Equus quagga, formerly Equus bur...</td>\n",
              "      <td>Zebra. Plains zebra. Grevy's zebra. Zebras are...</td>\n",
              "    </tr>\n",
              "    <tr>\n",
              "      <th>1455</th>\n",
              "      <td>Zebra</td>\n",
              "      <td>Which species of zebra is known as the common ...</td>\n",
              "      <td>Plains Zebra</td>\n",
              "      <td>Zebra. Plains zebra. Grevy's zebra. Zebras are...</td>\n",
              "    </tr>\n",
              "    <tr>\n",
              "      <th>1456</th>\n",
              "      <td>Zebra</td>\n",
              "      <td>At what age can a zebra breed?</td>\n",
              "      <td>five or six</td>\n",
              "      <td>Zebra. Plains zebra. Grevy's zebra. Zebras are...</td>\n",
              "    </tr>\n",
              "    <tr>\n",
              "      <th>1457</th>\n",
              "      <td>Zebra</td>\n",
              "      <td>At what age can a zebra breed?</td>\n",
              "      <td>5 or 6</td>\n",
              "      <td>Zebra. Plains zebra. Grevy's zebra. Zebras are...</td>\n",
              "    </tr>\n",
              "  </tbody>\n",
              "</table>\n",
              "<p>3996 rows × 4 columns</p>\n",
              "</div>"
            ],
            "text/plain": [
              "         ArticleTitle  ...                                        ArticleText\n",
              "0     Abraham_Lincoln  ...  Abraham Lincoln. Abraham Lincoln (February 12,...\n",
              "1     Abraham_Lincoln  ...  Abraham Lincoln. Abraham Lincoln (February 12,...\n",
              "2     Abraham_Lincoln  ...  Abraham Lincoln. Abraham Lincoln (February 12,...\n",
              "3     Abraham_Lincoln  ...  Abraham Lincoln. Abraham Lincoln (February 12,...\n",
              "4     Abraham_Lincoln  ...  Abraham Lincoln. Abraham Lincoln (February 12,...\n",
              "...               ...  ...                                                ...\n",
              "1453            Zebra  ...  Zebra. Plains zebra. Grevy's zebra. Zebras are...\n",
              "1454            Zebra  ...  Zebra. Plains zebra. Grevy's zebra. Zebras are...\n",
              "1455            Zebra  ...  Zebra. Plains zebra. Grevy's zebra. Zebras are...\n",
              "1456            Zebra  ...  Zebra. Plains zebra. Grevy's zebra. Zebras are...\n",
              "1457            Zebra  ...  Zebra. Plains zebra. Grevy's zebra. Zebras are...\n",
              "\n",
              "[3996 rows x 4 columns]"
            ]
          },
          "metadata": {
            "tags": []
          },
          "execution_count": 21
        }
      ]
    },
    {
      "cell_type": "code",
      "metadata": {
        "id": "uVTtcI-k5sJA"
      },
      "source": [
        "# stop_words = set(stopwords.words('english'))\n",
        "def cleanQuestion(text):\n",
        "  text = str(text)\n",
        "  wnl = nltk.stem.WordNetLemmatizer()\n",
        "  text = text.lower()\n",
        "  words = re.sub(r'[^\\w\\s]', '', text).split()\n",
        "  # words = [word for word in words if not word in stop_words]\n",
        "  return \" \".join([word for word in words])\n",
        "\n",
        "def cleanAnswer(text):\n",
        "  text = str(text)\n",
        "  wnl = nltk.stem.WordNetLemmatizer()\n",
        "  text = text.lower()\n",
        "  words = re.sub(r'[^\\w\\s]', '', text).split()\n",
        "  # words = [word for word in words if not word in stop_words]\n",
        "  return \" \".join([word for word in words])\n",
        "\n",
        "def cleanText(text):\n",
        "  text = str(text)\n",
        "  wnl = nltk.stem.WordNetLemmatizer()\n",
        "  text = text.lower()\n",
        "  words = re.sub(r'[^\\w\\s\\.\\?]', '', text).split()\n",
        "  # words = [word for word in words if not word in stop_words]\n",
        "  return \" \".join([word for word in words])"
      ],
      "execution_count": 22,
      "outputs": []
    },
    {
      "cell_type": "code",
      "metadata": {
        "colab": {
          "base_uri": "https://localhost:8080/",
          "height": 419
        },
        "id": "rOyEuIUJ5SDv",
        "outputId": "b0bbc70b-8eb1-42fd-dd75-b6c2d4fd73ef"
      },
      "source": [
        "df['Question'] = df['Question'].apply(lambda x: cleanQuestion(x))\n",
        "df['Answer'] = df['Answer'].apply(lambda x: cleanAnswer(x))\n",
        "df['ArticleText'] = df['ArticleText'].apply(lambda x: cleanText(x))\n",
        "df"
      ],
      "execution_count": 23,
      "outputs": [
        {
          "output_type": "execute_result",
          "data": {
            "text/html": [
              "<div>\n",
              "<style scoped>\n",
              "    .dataframe tbody tr th:only-of-type {\n",
              "        vertical-align: middle;\n",
              "    }\n",
              "\n",
              "    .dataframe tbody tr th {\n",
              "        vertical-align: top;\n",
              "    }\n",
              "\n",
              "    .dataframe thead th {\n",
              "        text-align: right;\n",
              "    }\n",
              "</style>\n",
              "<table border=\"1\" class=\"dataframe\">\n",
              "  <thead>\n",
              "    <tr style=\"text-align: right;\">\n",
              "      <th></th>\n",
              "      <th>ArticleTitle</th>\n",
              "      <th>Question</th>\n",
              "      <th>Answer</th>\n",
              "      <th>ArticleText</th>\n",
              "    </tr>\n",
              "  </thead>\n",
              "  <tbody>\n",
              "    <tr>\n",
              "      <th>0</th>\n",
              "      <td>Abraham_Lincoln</td>\n",
              "      <td>was abraham lincoln the sixteenth president of...</td>\n",
              "      <td>yes</td>\n",
              "      <td>abraham lincoln. abraham lincoln february 12 1...</td>\n",
              "    </tr>\n",
              "    <tr>\n",
              "      <th>1</th>\n",
              "      <td>Abraham_Lincoln</td>\n",
              "      <td>was abraham lincoln the sixteenth president of...</td>\n",
              "      <td>yes</td>\n",
              "      <td>abraham lincoln. abraham lincoln february 12 1...</td>\n",
              "    </tr>\n",
              "    <tr>\n",
              "      <th>2</th>\n",
              "      <td>Abraham_Lincoln</td>\n",
              "      <td>did lincoln sign the national banking act of 1863</td>\n",
              "      <td>yes</td>\n",
              "      <td>abraham lincoln. abraham lincoln february 12 1...</td>\n",
              "    </tr>\n",
              "    <tr>\n",
              "      <th>3</th>\n",
              "      <td>Abraham_Lincoln</td>\n",
              "      <td>did lincoln sign the national banking act of 1863</td>\n",
              "      <td>yes</td>\n",
              "      <td>abraham lincoln. abraham lincoln february 12 1...</td>\n",
              "    </tr>\n",
              "    <tr>\n",
              "      <th>4</th>\n",
              "      <td>Abraham_Lincoln</td>\n",
              "      <td>did his mother die of pneumonia</td>\n",
              "      <td>no</td>\n",
              "      <td>abraham lincoln. abraham lincoln february 12 1...</td>\n",
              "    </tr>\n",
              "    <tr>\n",
              "      <th>...</th>\n",
              "      <td>...</td>\n",
              "      <td>...</td>\n",
              "      <td>...</td>\n",
              "      <td>...</td>\n",
              "    </tr>\n",
              "    <tr>\n",
              "      <th>1453</th>\n",
              "      <td>Zebra</td>\n",
              "      <td>what areas do the grevys zebras inhabit</td>\n",
              "      <td>nan</td>\n",
              "      <td>zebra. plains zebra. grevys zebra. zebras are ...</td>\n",
              "    </tr>\n",
              "    <tr>\n",
              "      <th>1454</th>\n",
              "      <td>Zebra</td>\n",
              "      <td>which species of zebra is known as the common ...</td>\n",
              "      <td>plains zebra equus quagga formerly equus burch...</td>\n",
              "      <td>zebra. plains zebra. grevys zebra. zebras are ...</td>\n",
              "    </tr>\n",
              "    <tr>\n",
              "      <th>1455</th>\n",
              "      <td>Zebra</td>\n",
              "      <td>which species of zebra is known as the common ...</td>\n",
              "      <td>plains zebra</td>\n",
              "      <td>zebra. plains zebra. grevys zebra. zebras are ...</td>\n",
              "    </tr>\n",
              "    <tr>\n",
              "      <th>1456</th>\n",
              "      <td>Zebra</td>\n",
              "      <td>at what age can a zebra breed</td>\n",
              "      <td>five or six</td>\n",
              "      <td>zebra. plains zebra. grevys zebra. zebras are ...</td>\n",
              "    </tr>\n",
              "    <tr>\n",
              "      <th>1457</th>\n",
              "      <td>Zebra</td>\n",
              "      <td>at what age can a zebra breed</td>\n",
              "      <td>5 or 6</td>\n",
              "      <td>zebra. plains zebra. grevys zebra. zebras are ...</td>\n",
              "    </tr>\n",
              "  </tbody>\n",
              "</table>\n",
              "<p>3996 rows × 4 columns</p>\n",
              "</div>"
            ],
            "text/plain": [
              "         ArticleTitle  ...                                        ArticleText\n",
              "0     Abraham_Lincoln  ...  abraham lincoln. abraham lincoln february 12 1...\n",
              "1     Abraham_Lincoln  ...  abraham lincoln. abraham lincoln february 12 1...\n",
              "2     Abraham_Lincoln  ...  abraham lincoln. abraham lincoln february 12 1...\n",
              "3     Abraham_Lincoln  ...  abraham lincoln. abraham lincoln february 12 1...\n",
              "4     Abraham_Lincoln  ...  abraham lincoln. abraham lincoln february 12 1...\n",
              "...               ...  ...                                                ...\n",
              "1453            Zebra  ...  zebra. plains zebra. grevys zebra. zebras are ...\n",
              "1454            Zebra  ...  zebra. plains zebra. grevys zebra. zebras are ...\n",
              "1455            Zebra  ...  zebra. plains zebra. grevys zebra. zebras are ...\n",
              "1456            Zebra  ...  zebra. plains zebra. grevys zebra. zebras are ...\n",
              "1457            Zebra  ...  zebra. plains zebra. grevys zebra. zebras are ...\n",
              "\n",
              "[3996 rows x 4 columns]"
            ]
          },
          "metadata": {
            "tags": []
          },
          "execution_count": 23
        }
      ]
    },
    {
      "cell_type": "code",
      "metadata": {
        "id": "Hxc2bbIW5SAW"
      },
      "source": [
        "allQuestion = '. '.join(list(df['Question']))\n",
        "allAnswer = '. '.join(list(df['Answer']))\n",
        "allContext = '. '.join(list(df['ArticleText']))\n",
        "text = allQuestion + allAnswer + allContext\n",
        "s = SplitIndexedList(text.split('.'))"
      ],
      "execution_count": 24,
      "outputs": []
    },
    {
      "cell_type": "code",
      "metadata": {
        "id": "eQwvrYTJ_Jau"
      },
      "source": [
        "glove = api.load(\"glove-wiki-gigaword-100\")"
      ],
      "execution_count": 25,
      "outputs": []
    },
    {
      "cell_type": "code",
      "metadata": {
        "id": "jmbymWCD_JgW"
      },
      "source": [
        "from fse.models import uSIF\n",
        "model = uSIF(glove, workers=2, lang_freq=\"en\")"
      ],
      "execution_count": 26,
      "outputs": []
    },
    {
      "cell_type": "code",
      "metadata": {
        "colab": {
          "base_uri": "https://localhost:8080/"
        },
        "id": "dD9WWc-0_JkE",
        "outputId": "87df1e64-b3f8-40bc-d740-84724a2e11cf"
      },
      "source": [
        "model.train(s)"
      ],
      "execution_count": 27,
      "outputs": [
        {
          "output_type": "execute_result",
          "data": {
            "text/plain": [
              "(1209160, 18383309)"
            ]
          },
          "metadata": {
            "tags": []
          },
          "execution_count": 27
        }
      ]
    },
    {
      "cell_type": "code",
      "metadata": {
        "colab": {
          "base_uri": "https://localhost:8080/"
        },
        "id": "21v0Emm1_JeR",
        "outputId": "ee947f3e-e2de-4b92-faf7-6b7a51792452"
      },
      "source": [
        "model.sv.similar_by_word(\"abraham\", wv=glove, indexable=s.items)"
      ],
      "execution_count": 28,
      "outputs": [
        {
          "output_type": "execute_result",
          "data": {
            "text/plain": [
              "[(' abraham lincoln', 21570, 0.9007503986358643),\n",
              " (' abraham lincoln', 12064, 0.9007503986358643),\n",
              " (' abraham lincoln', 14101, 0.9007503986358643),\n",
              " (' abraham lincoln', 24286, 0.9007503986358643),\n",
              " (' abraham lincoln', 22928, 0.9007503986358643),\n",
              " (' abraham lincoln', 10706, 0.9007503986358643),\n",
              " (' abraham lincoln', 28360, 0.9007503986358643),\n",
              " (' abraham lincoln', 15459, 0.9007503986358643),\n",
              " (' abraham lincoln', 13422, 0.9007503986358643),\n",
              " (' abraham lincoln', 19533, 0.9007503986358643)]"
            ]
          },
          "metadata": {
            "tags": []
          },
          "execution_count": 28
        }
      ]
    },
    {
      "cell_type": "code",
      "metadata": {
        "colab": {
          "base_uri": "https://localhost:8080/"
        },
        "id": "sKnbP8MQ5R-U",
        "outputId": "093457a0-1650-4bdf-8d35-fa54a402ac0d"
      },
      "source": [
        "q = 'was abraham lincoln the sixteenth president of the united states'\n",
        "c1 = 'Abraham Lincoln (February 12, 1809 – April 15, 1865) was the sixteenth President of the United States, serving from March 4, 1861 until his assassination.'\n",
        "c2 = 'Scholars now rank Lincoln among the top three U.S. Presidents, with the majority of those surveyed placing him first.'\n",
        "c3 = 'Symbolic log cabin at Abraham Lincoln Birthplace National Historic Site.'\n",
        "\n",
        "tmpq = (q.split(), 0)\n",
        "tmpc1 = (c1.split(), 0)\n",
        "tmpc2 = (c2.split(), 0)\n",
        "tmpc3 = (c3.split(), 0)\n",
        "\n",
        "print(metrics.pairwise.cosine_similarity(model.infer([tmpq]), model.infer([tmpc1])))\n",
        "print(metrics.pairwise.cosine_similarity(model.infer([tmpq]), model.infer([tmpc2])))\n",
        "print(metrics.pairwise.cosine_similarity(model.infer([tmpq]), model.infer([tmpc3])))"
      ],
      "execution_count": 29,
      "outputs": [
        {
          "output_type": "stream",
          "text": [
            "[[0.5035991]]\n",
            "[[0.34502378]]\n",
            "[[0.1622887]]\n"
          ],
          "name": "stdout"
        }
      ]
    },
    {
      "cell_type": "code",
      "metadata": {
        "colab": {
          "base_uri": "https://localhost:8080/",
          "height": 35
        },
        "id": "x8HMwd8pDWjG",
        "outputId": "207d1abb-f488-4817-e796-8e6a2cbc3548"
      },
      "source": [
        "df['Question'].iloc[0]"
      ],
      "execution_count": 30,
      "outputs": [
        {
          "output_type": "execute_result",
          "data": {
            "application/vnd.google.colaboratory.intrinsic+json": {
              "type": "string"
            },
            "text/plain": [
              "'was abraham lincoln the sixteenth president of the united states'"
            ]
          },
          "metadata": {
            "tags": []
          },
          "execution_count": 30
        }
      ]
    },
    {
      "cell_type": "code",
      "metadata": {
        "id": "cZl5LyTN5R4b"
      },
      "source": [
        "def getSim(q, x):\n",
        "  x = (str(x).split(), 0)\n",
        "  sim = metrics.pairwise.cosine_similarity(model.infer([q]), model.infer([x]))\n",
        "  return sim\n",
        "\n",
        "def getAnswer(question, context):\n",
        "  q = (str(question).split(), 0)\n",
        "  c = pd.DataFrame(str(context).split('.'))\n",
        "  c['sim'] = c[0].apply(lambda x: getSim(q, x))\n",
        "  max = c.sort_values(by='sim', ascending=False).iloc[:3]\n",
        "  return max"
      ],
      "execution_count": null,
      "outputs": []
    },
    {
      "cell_type": "code",
      "metadata": {
        "colab": {
          "base_uri": "https://localhost:8080/",
          "height": 210
        },
        "id": "dkcc-ApyFQPL",
        "outputId": "fb739492-67b3-47c4-bc61-609d96f6574a"
      },
      "source": [
        "qno = 10\n",
        "print('Question: ', df['Question'].iloc[qno])\n",
        "print('Top Solutions: \\n')\n",
        "getAnswer(df['Question'].iloc[qno], df['ArticleText'].iloc[qno])"
      ],
      "execution_count": 35,
      "outputs": [
        {
          "output_type": "stream",
          "text": [
            "Question:  what did the legal tender act of 1862 establish\n",
            "Top Solutions: \n",
            "\n"
          ],
          "name": "stdout"
        },
        {
          "output_type": "execute_result",
          "data": {
            "text/html": [
              "<div>\n",
              "<style scoped>\n",
              "    .dataframe tbody tr th:only-of-type {\n",
              "        vertical-align: middle;\n",
              "    }\n",
              "\n",
              "    .dataframe tbody tr th {\n",
              "        vertical-align: top;\n",
              "    }\n",
              "\n",
              "    .dataframe thead th {\n",
              "        text-align: right;\n",
              "    }\n",
              "</style>\n",
              "<table border=\"1\" class=\"dataframe\">\n",
              "  <thead>\n",
              "    <tr style=\"text-align: right;\">\n",
              "      <th></th>\n",
              "      <th>0</th>\n",
              "      <th>sim</th>\n",
              "    </tr>\n",
              "  </thead>\n",
              "  <tbody>\n",
              "    <tr>\n",
              "      <th>497</th>\n",
              "      <td>the legal tender act of 1862 established the united states note the first paper currency in united states history</td>\n",
              "      <td>[[0.81722957]]</td>\n",
              "    </tr>\n",
              "    <tr>\n",
              "      <th>494</th>\n",
              "      <td>also included was the creation of the system of national banks by the national banking acts of 1863 1864 and 1865 which allowed the creation of a strong national financial system</td>\n",
              "      <td>[[0.7636685]]</td>\n",
              "    </tr>\n",
              "    <tr>\n",
              "      <th>203</th>\n",
              "      <td>lincoln returned to politics in response to the kansasnebraska act 1854 which expressly repealed the limits on slaverys extent as determined by the missouri compromise 1820</td>\n",
              "      <td>[[0.744259]]</td>\n",
              "    </tr>\n",
              "  </tbody>\n",
              "</table>\n",
              "</div>"
            ],
            "text/plain": [
              "                                                                                                                                                                                       0             sim\n",
              "497   the legal tender act of 1862 established the united states note the first paper currency in united states history                                                                   [[0.81722957]]\n",
              "494   also included was the creation of the system of national banks by the national banking acts of 1863 1864 and 1865 which allowed the creation of a strong national financial system  [[0.7636685]] \n",
              "203   lincoln returned to politics in response to the kansasnebraska act 1854 which expressly repealed the limits on slaverys extent as determined by the missouri compromise 1820        [[0.744259]]  "
            ]
          },
          "metadata": {
            "tags": []
          },
          "execution_count": 35
        }
      ]
    },
    {
      "cell_type": "code",
      "metadata": {
        "colab": {
          "base_uri": "https://localhost:8080/",
          "height": 193
        },
        "id": "-kHuQfQRFQSs",
        "outputId": "1a636f02-4b6a-4189-cce4-60303c55e10c"
      },
      "source": [
        "qno = 100\n",
        "print('Question: ', df['Question'].iloc[qno])\n",
        "print('Top Solutions: \\n')\n",
        "sol = getAnswer(df['Question'].iloc[qno], df['ArticleText'].iloc[qno])"
      ],
      "execution_count": 36,
      "outputs": [
        {
          "output_type": "stream",
          "text": [
            "Question:  was amedeo avogadro born in turin august 9th 1776 to a noble ancient family of piedmont italy\n",
            "Top Solutions: \n",
            "\n"
          ],
          "name": "stdout"
        },
        {
          "output_type": "execute_result",
          "data": {
            "text/html": [
              "<div>\n",
              "<style scoped>\n",
              "    .dataframe tbody tr th:only-of-type {\n",
              "        vertical-align: middle;\n",
              "    }\n",
              "\n",
              "    .dataframe tbody tr th {\n",
              "        vertical-align: top;\n",
              "    }\n",
              "\n",
              "    .dataframe thead th {\n",
              "        text-align: right;\n",
              "    }\n",
              "</style>\n",
              "<table border=\"1\" class=\"dataframe\">\n",
              "  <thead>\n",
              "    <tr style=\"text-align: right;\">\n",
              "      <th></th>\n",
              "      <th>0</th>\n",
              "      <th>sim</th>\n",
              "    </tr>\n",
              "  </thead>\n",
              "  <tbody>\n",
              "    <tr>\n",
              "      <th>8</th>\n",
              "      <td>amedeo avogadro was born in turin august 9th 1776 to a noble ancient family of piedmont italy</td>\n",
              "      <td>[[1.0]]</td>\n",
              "    </tr>\n",
              "    <tr>\n",
              "      <th>74</th>\n",
              "      <td>note in 1911 victor emmanuel iii was the king of a unified italy with rome instead or turin as its capital</td>\n",
              "      <td>[[0.7332665]]</td>\n",
              "    </tr>\n",
              "    <tr>\n",
              "      <th>3</th>\n",
              "      <td>lorenzo romano amedeo carlo avogadro count of quaregna and cerreto august 9 1776 july 9 1856 was an italian savant</td>\n",
              "      <td>[[0.6982341]]</td>\n",
              "    </tr>\n",
              "  </tbody>\n",
              "</table>\n",
              "</div>"
            ],
            "text/plain": [
              "                                                                                                                      0            sim\n",
              "8    amedeo avogadro was born in turin august 9th 1776 to a noble ancient family of piedmont italy                       [[1.0]]      \n",
              "74   note in 1911 victor emmanuel iii was the king of a unified italy with rome instead or turin as its capital          [[0.7332665]]\n",
              "3    lorenzo romano amedeo carlo avogadro count of quaregna and cerreto august 9 1776 july 9 1856 was an italian savant  [[0.6982341]]"
            ]
          },
          "metadata": {
            "tags": []
          },
          "execution_count": 36
        }
      ]
    },
    {
      "cell_type": "code",
      "metadata": {
        "colab": {
          "base_uri": "https://localhost:8080/",
          "height": 210
        },
        "id": "_RIpSjsgGBsm",
        "outputId": "fdb95ef1-535d-4dba-fc80-91cac761562c"
      },
      "source": [
        "qno = 1234\n",
        "print('Question: ', df['Question'].iloc[qno])\n",
        "print('Top Solutions: \\n')\n",
        "getAnswer(df['Question'].iloc[qno], df['ArticleText'].iloc[qno])"
      ],
      "execution_count": 44,
      "outputs": [
        {
          "output_type": "stream",
          "text": [
            "Question:  how much time to penguins spend on land\n",
            "Top Solutions: \n",
            "\n"
          ],
          "name": "stdout"
        },
        {
          "output_type": "execute_result",
          "data": {
            "text/html": [
              "<div>\n",
              "<style scoped>\n",
              "    .dataframe tbody tr th:only-of-type {\n",
              "        vertical-align: middle;\n",
              "    }\n",
              "\n",
              "    .dataframe tbody tr th {\n",
              "        vertical-align: top;\n",
              "    }\n",
              "\n",
              "    .dataframe thead th {\n",
              "        text-align: right;\n",
              "    }\n",
              "</style>\n",
              "<table border=\"1\" class=\"dataframe\">\n",
              "  <thead>\n",
              "    <tr style=\"text-align: right;\">\n",
              "      <th></th>\n",
              "      <th>0</th>\n",
              "      <th>sim</th>\n",
              "    </tr>\n",
              "  </thead>\n",
              "  <tbody>\n",
              "    <tr>\n",
              "      <th>32</th>\n",
              "      <td>this is also the distance that antarctic tourists are told to keep from penguins tourists are not supposed to approach closer than 3 meters but are not expected to withdraw if the penguins come closer</td>\n",
              "      <td>[[0.78479326]]</td>\n",
              "    </tr>\n",
              "    <tr>\n",
              "      <th>26</th>\n",
              "      <td>they spend half of their life on land and half in the oceans</td>\n",
              "      <td>[[0.7688274]]</td>\n",
              "    </tr>\n",
              "    <tr>\n",
              "      <th>83</th>\n",
              "      <td>isabelline penguins tend to live shorter lives than normal penguins as they are not well camouflaged against the deep and are often passed over as mates</td>\n",
              "      <td>[[0.75811774]]</td>\n",
              "    </tr>\n",
              "  </tbody>\n",
              "</table>\n",
              "</div>"
            ],
            "text/plain": [
              "                                                                                                                                                                                                            0             sim\n",
              "32   this is also the distance that antarctic tourists are told to keep from penguins tourists are not supposed to approach closer than 3 meters but are not expected to withdraw if the penguins come closer  [[0.78479326]]\n",
              "26   they spend half of their life on land and half in the oceans                                                                                                                                              [[0.7688274]] \n",
              "83   isabelline penguins tend to live shorter lives than normal penguins as they are not well camouflaged against the deep and are often passed over as mates                                                  [[0.75811774]]"
            ]
          },
          "metadata": {
            "tags": []
          },
          "execution_count": 44
        }
      ]
    },
    {
      "cell_type": "code",
      "metadata": {
        "colab": {
          "base_uri": "https://localhost:8080/",
          "height": 193
        },
        "id": "th1C-kTBGBuh",
        "outputId": "f9e02053-a7eb-4797-97a7-1c27041c626a"
      },
      "source": [
        "qno = 1\n",
        "print('Question: ', df['Question'].iloc[qno])\n",
        "print('Top Solutions: \\n')\n",
        "getAnswer(df['Question'].iloc[qno], df['ArticleText'].iloc[qno])"
      ],
      "execution_count": 42,
      "outputs": [
        {
          "output_type": "stream",
          "text": [
            "Question:  was abraham lincoln the sixteenth president of the united states\n",
            "Top Solutions: \n",
            "\n"
          ],
          "name": "stdout"
        },
        {
          "output_type": "execute_result",
          "data": {
            "text/html": [
              "<div>\n",
              "<style scoped>\n",
              "    .dataframe tbody tr th:only-of-type {\n",
              "        vertical-align: middle;\n",
              "    }\n",
              "\n",
              "    .dataframe tbody tr th {\n",
              "        vertical-align: top;\n",
              "    }\n",
              "\n",
              "    .dataframe thead th {\n",
              "        text-align: right;\n",
              "    }\n",
              "</style>\n",
              "<table border=\"1\" class=\"dataframe\">\n",
              "  <thead>\n",
              "    <tr style=\"text-align: right;\">\n",
              "      <th></th>\n",
              "      <th>0</th>\n",
              "      <th>sim</th>\n",
              "    </tr>\n",
              "  </thead>\n",
              "  <tbody>\n",
              "    <tr>\n",
              "      <th>619</th>\n",
              "      <td>lincoln illinois is the only city to be named for abraham lincoln before he became president</td>\n",
              "      <td>[[0.84491354]]</td>\n",
              "    </tr>\n",
              "    <tr>\n",
              "      <th>0</th>\n",
              "      <td>abraham lincoln</td>\n",
              "      <td>[[0.8129417]]</td>\n",
              "    </tr>\n",
              "    <tr>\n",
              "      <th>287</th>\n",
              "      <td>photograph showing the march 4 1861 inauguration of abraham lincoln in front of united states capitol</td>\n",
              "      <td>[[0.7974195]]</td>\n",
              "    </tr>\n",
              "  </tbody>\n",
              "</table>\n",
              "</div>"
            ],
            "text/plain": [
              "                                                                                                          0             sim\n",
              "619   lincoln illinois is the only city to be named for abraham lincoln before he became president           [[0.84491354]]\n",
              "0    abraham lincoln                                                                                         [[0.8129417]] \n",
              "287   photograph showing the march 4 1861 inauguration of abraham lincoln in front of united states capitol  [[0.7974195]] "
            ]
          },
          "metadata": {
            "tags": []
          },
          "execution_count": 42
        }
      ]
    },
    {
      "cell_type": "code",
      "metadata": {
        "colab": {
          "base_uri": "https://localhost:8080/",
          "height": 193
        },
        "id": "lIaQFcbgGBxo",
        "outputId": "471f27ee-33de-4b0e-8e71-ad60f8f887dc"
      },
      "source": [
        "qno = 600\n",
        "print('Question: ', df['Question'].iloc[qno])\n",
        "print('Top Solutions: \\n')\n",
        "getAnswer(df['Question'].iloc[qno], df['ArticleText'].iloc[qno])"
      ],
      "execution_count": 43,
      "outputs": [
        {
          "output_type": "stream",
          "text": [
            "Question:  was ford the last surviving member of the warren commission\n",
            "Top Solutions: \n",
            "\n"
          ],
          "name": "stdout"
        },
        {
          "output_type": "execute_result",
          "data": {
            "text/html": [
              "<div>\n",
              "<style scoped>\n",
              "    .dataframe tbody tr th:only-of-type {\n",
              "        vertical-align: middle;\n",
              "    }\n",
              "\n",
              "    .dataframe tbody tr th {\n",
              "        vertical-align: top;\n",
              "    }\n",
              "\n",
              "    .dataframe thead th {\n",
              "        text-align: right;\n",
              "    }\n",
              "</style>\n",
              "<table border=\"1\" class=\"dataframe\">\n",
              "  <thead>\n",
              "    <tr style=\"text-align: right;\">\n",
              "      <th></th>\n",
              "      <th>0</th>\n",
              "      <th>sim</th>\n",
              "    </tr>\n",
              "  </thead>\n",
              "  <tbody>\n",
              "    <tr>\n",
              "      <th>642</th>\n",
              "      <td>ford was the last surviving member of the warren commission</td>\n",
              "      <td>[[1.0]]</td>\n",
              "    </tr>\n",
              "    <tr>\n",
              "      <th>201</th>\n",
              "      <td>johnson appointed ford to the warren commission a special task force set up to investigate the assassination of president john f</td>\n",
              "      <td>[[0.8035106]]</td>\n",
              "    </tr>\n",
              "    <tr>\n",
              "      <th>253</th>\n",
              "      <td>gerald ford is sworn in as the 38th president of the united states by chief justice warren burger in the white house east room while betty ford looks on</td>\n",
              "      <td>[[0.79951906]]</td>\n",
              "    </tr>\n",
              "  </tbody>\n",
              "</table>\n",
              "</div>"
            ],
            "text/plain": [
              "                                                                                                                                                             0             sim\n",
              "642   ford was the last surviving member of the warren commission                                                                                               [[1.0]]       \n",
              "201   johnson appointed ford to the warren commission a special task force set up to investigate the assassination of president john f                          [[0.8035106]] \n",
              "253   gerald ford is sworn in as the 38th president of the united states by chief justice warren burger in the white house east room while betty ford looks on  [[0.79951906]]"
            ]
          },
          "metadata": {
            "tags": []
          },
          "execution_count": 43
        }
      ]
    }
  ]
}