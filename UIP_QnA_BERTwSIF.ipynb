{
  "nbformat": 4,
  "nbformat_minor": 0,
  "metadata": {
    "colab": {
      "name": "UIP-QnA-BERTwSIF.ipynb",
      "provenance": [],
      "authorship_tag": "ABX9TyO+45U1o40uLKda9JPGzq/p",
      "include_colab_link": true
    },
    "kernelspec": {
      "name": "python3",
      "display_name": "Python 3"
    }
  },
  "cells": [
    {
      "cell_type": "markdown",
      "metadata": {
        "id": "view-in-github",
        "colab_type": "text"
      },
      "source": [
        "<a href=\"https://colab.research.google.com/github/harpreetvirkk/NLP-QuestionAnswerSystem/blob/main/UIP_QnA_BERTwSIF.ipynb\" target=\"_parent\"><img src=\"https://colab.research.google.com/assets/colab-badge.svg\" alt=\"Open In Colab\"/></a>"
      ]
    },
    {
      "cell_type": "code",
      "metadata": {
        "colab": {
          "base_uri": "https://localhost:8080/"
        },
        "id": "7Q52YIBRAgnX",
        "outputId": "9002322b-132f-4e6b-8808-db98616b3686"
      },
      "source": [
        "import os\n",
        "!git clone -l -s https://github.com/harpreetvirkk/NLP-QuestionAnswerSystem rep\n",
        "%cd rep\n",
        "!ls"
      ],
      "execution_count": 1,
      "outputs": [
        {
          "output_type": "stream",
          "text": [
            "fatal: destination path 'rep' already exists and is not an empty directory.\n",
            "/content/rep\n",
            "dataset  README.md  UIP_QnA.ipynb  UIP_QnA_SIF.ipynb\n"
          ],
          "name": "stdout"
        }
      ]
    },
    {
      "cell_type": "code",
      "metadata": {
        "colab": {
          "base_uri": "https://localhost:8080/"
        },
        "id": "ForhUFelyxKE",
        "outputId": "b3f938b9-9324-4c19-d31d-438a97996bfe"
      },
      "source": [
        "!pip3 install fse\n",
        "!pip3 install transformers\n",
        "!pip3 install torch"
      ],
      "execution_count": 2,
      "outputs": [
        {
          "output_type": "stream",
          "text": [
            "Requirement already satisfied: fse in /usr/local/lib/python3.6/dist-packages (0.1.15)\n",
            "Requirement already satisfied: gensim>=3.8.0 in /usr/local/lib/python3.6/dist-packages (from fse) (3.8.3)\n",
            "Requirement already satisfied: smart-open>=1.5.0 in /usr/local/lib/python3.6/dist-packages (from fse) (3.0.0)\n",
            "Requirement already satisfied: scikit-learn>=0.19.1 in /usr/local/lib/python3.6/dist-packages (from fse) (0.22.2.post1)\n",
            "Requirement already satisfied: psutil in /usr/local/lib/python3.6/dist-packages (from fse) (5.4.8)\n",
            "Requirement already satisfied: scipy>=0.18.1 in /usr/local/lib/python3.6/dist-packages (from fse) (1.4.1)\n",
            "Requirement already satisfied: wordfreq>=2.2.1 in /usr/local/lib/python3.6/dist-packages (from fse) (2.3.2)\n",
            "Requirement already satisfied: numpy>=1.11.3 in /usr/local/lib/python3.6/dist-packages (from fse) (1.18.5)\n",
            "Requirement already satisfied: six>=1.5.0 in /usr/local/lib/python3.6/dist-packages (from gensim>=3.8.0->fse) (1.15.0)\n",
            "Requirement already satisfied: requests in /usr/local/lib/python3.6/dist-packages (from smart-open>=1.5.0->fse) (2.23.0)\n",
            "Requirement already satisfied: joblib>=0.11 in /usr/local/lib/python3.6/dist-packages (from scikit-learn>=0.19.1->fse) (0.17.0)\n",
            "Requirement already satisfied: regex in /usr/local/lib/python3.6/dist-packages (from wordfreq>=2.2.1->fse) (2019.12.20)\n",
            "Requirement already satisfied: msgpack>=1.0 in /usr/local/lib/python3.6/dist-packages (from wordfreq>=2.2.1->fse) (1.0.0)\n",
            "Requirement already satisfied: langcodes>=2 in /usr/local/lib/python3.6/dist-packages (from wordfreq>=2.2.1->fse) (2.1.0)\n",
            "Requirement already satisfied: idna<3,>=2.5 in /usr/local/lib/python3.6/dist-packages (from requests->smart-open>=1.5.0->fse) (2.10)\n",
            "Requirement already satisfied: chardet<4,>=3.0.2 in /usr/local/lib/python3.6/dist-packages (from requests->smart-open>=1.5.0->fse) (3.0.4)\n",
            "Requirement already satisfied: certifi>=2017.4.17 in /usr/local/lib/python3.6/dist-packages (from requests->smart-open>=1.5.0->fse) (2020.11.8)\n",
            "Requirement already satisfied: urllib3!=1.25.0,!=1.25.1,<1.26,>=1.21.1 in /usr/local/lib/python3.6/dist-packages (from requests->smart-open>=1.5.0->fse) (1.24.3)\n",
            "Requirement already satisfied: marisa-trie in /usr/local/lib/python3.6/dist-packages (from langcodes>=2->wordfreq>=2.2.1->fse) (0.7.5)\n",
            "Requirement already satisfied: transformers in /usr/local/lib/python3.6/dist-packages (3.5.1)\n",
            "Requirement already satisfied: sentencepiece==0.1.91 in /usr/local/lib/python3.6/dist-packages (from transformers) (0.1.91)\n",
            "Requirement already satisfied: dataclasses; python_version < \"3.7\" in /usr/local/lib/python3.6/dist-packages (from transformers) (0.8)\n",
            "Requirement already satisfied: numpy in /usr/local/lib/python3.6/dist-packages (from transformers) (1.18.5)\n",
            "Requirement already satisfied: sacremoses in /usr/local/lib/python3.6/dist-packages (from transformers) (0.0.43)\n",
            "Requirement already satisfied: protobuf in /usr/local/lib/python3.6/dist-packages (from transformers) (3.12.4)\n",
            "Requirement already satisfied: tqdm>=4.27 in /usr/local/lib/python3.6/dist-packages (from transformers) (4.41.1)\n",
            "Requirement already satisfied: tokenizers==0.9.3 in /usr/local/lib/python3.6/dist-packages (from transformers) (0.9.3)\n",
            "Requirement already satisfied: regex!=2019.12.17 in /usr/local/lib/python3.6/dist-packages (from transformers) (2019.12.20)\n",
            "Requirement already satisfied: packaging in /usr/local/lib/python3.6/dist-packages (from transformers) (20.4)\n",
            "Requirement already satisfied: filelock in /usr/local/lib/python3.6/dist-packages (from transformers) (3.0.12)\n",
            "Requirement already satisfied: requests in /usr/local/lib/python3.6/dist-packages (from transformers) (2.23.0)\n",
            "Requirement already satisfied: six in /usr/local/lib/python3.6/dist-packages (from sacremoses->transformers) (1.15.0)\n",
            "Requirement already satisfied: click in /usr/local/lib/python3.6/dist-packages (from sacremoses->transformers) (7.1.2)\n",
            "Requirement already satisfied: joblib in /usr/local/lib/python3.6/dist-packages (from sacremoses->transformers) (0.17.0)\n",
            "Requirement already satisfied: setuptools in /usr/local/lib/python3.6/dist-packages (from protobuf->transformers) (50.3.2)\n",
            "Requirement already satisfied: pyparsing>=2.0.2 in /usr/local/lib/python3.6/dist-packages (from packaging->transformers) (2.4.7)\n",
            "Requirement already satisfied: urllib3!=1.25.0,!=1.25.1,<1.26,>=1.21.1 in /usr/local/lib/python3.6/dist-packages (from requests->transformers) (1.24.3)\n",
            "Requirement already satisfied: certifi>=2017.4.17 in /usr/local/lib/python3.6/dist-packages (from requests->transformers) (2020.11.8)\n",
            "Requirement already satisfied: idna<3,>=2.5 in /usr/local/lib/python3.6/dist-packages (from requests->transformers) (2.10)\n",
            "Requirement already satisfied: chardet<4,>=3.0.2 in /usr/local/lib/python3.6/dist-packages (from requests->transformers) (3.0.4)\n",
            "Requirement already satisfied: torch in /usr/local/lib/python3.6/dist-packages (1.7.0+cu101)\n",
            "Requirement already satisfied: dataclasses in /usr/local/lib/python3.6/dist-packages (from torch) (0.8)\n",
            "Requirement already satisfied: numpy in /usr/local/lib/python3.6/dist-packages (from torch) (1.18.5)\n",
            "Requirement already satisfied: future in /usr/local/lib/python3.6/dist-packages (from torch) (0.16.0)\n",
            "Requirement already satisfied: typing-extensions in /usr/local/lib/python3.6/dist-packages (from torch) (3.7.4.3)\n"
          ],
          "name": "stdout"
        }
      ]
    },
    {
      "cell_type": "code",
      "metadata": {
        "colab": {
          "base_uri": "https://localhost:8080/"
        },
        "id": "ax0Y7YA_AkJc",
        "outputId": "308b9bfb-8f58-4929-d2ac-5a7f1ecf6d35"
      },
      "source": [
        "import unicodedata\n",
        "import pandas as pd\n",
        "import numpy as np\n",
        "import re\n",
        "import unicodedata\n",
        "import fse\n",
        "from fse import SplitIndexedList\n",
        "import gensim.downloader as api\n",
        "from fse.models import uSIF\n",
        "from sklearn import metrics\n",
        "import nltk\n",
        "nltk.download('wordnet')\n",
        "nltk.download('stopwords')\n",
        "from nltk.corpus import stopwords\n",
        "from nltk.tokenize import word_tokenize  \n",
        "import torch\n",
        "from transformers import BertForQuestionAnswering\n",
        "from transformers import BertTokenizer, BertForQuestionAnswering\n",
        "import matplotlib.pyplot as plt\n",
        "import seaborn as sns\n",
        "import logging\n",
        "# logging.basicConfig(format='%(asctime)s : %(threadName)s : %(levelname)s : %(message)s', level=logging.INFO)\n",
        "pd.set_option('display.max_colwidth', -1)"
      ],
      "execution_count": 23,
      "outputs": [
        {
          "output_type": "stream",
          "text": [
            "[nltk_data] Downloading package wordnet to /root/nltk_data...\n",
            "[nltk_data]   Package wordnet is already up-to-date!\n",
            "[nltk_data] Downloading package stopwords to /root/nltk_data...\n",
            "[nltk_data]   Package stopwords is already up-to-date!\n"
          ],
          "name": "stdout"
        },
        {
          "output_type": "stream",
          "text": [
            "/usr/local/lib/python3.6/dist-packages/ipykernel_launcher.py:23: FutureWarning: Passing a negative integer is deprecated in version 1.0 and will not be supported in future version. Instead, use None to not limit the column width.\n"
          ],
          "name": "stderr"
        }
      ]
    },
    {
      "cell_type": "code",
      "metadata": {
        "id": "sNSsmi42Alpg"
      },
      "source": [
        "df1 = pd.read_csv('./dataset/S08_question_answer_pairs.txt', sep='\\t')\n",
        "df2 = pd.read_csv('./dataset/S09_question_answer_pairs.txt', sep='\\t')\n",
        "df3 = pd.read_csv('./dataset/S10_question_answer_pairs.txt', sep='\\t', encoding = 'ISO-8859-1')\n",
        "frames = [df1, df2, df3]\n",
        "df = pd.concat(frames)"
      ],
      "execution_count": 4,
      "outputs": []
    },
    {
      "cell_type": "code",
      "metadata": {
        "id": "2edmLu-aAosx"
      },
      "source": [
        "def getArticleText(file):\n",
        "  fpath = './dataset/text_data/'+file+'.txt.clean'\n",
        "  try:\n",
        "    f = open(fpath, 'r')\n",
        "    text = f.read()\n",
        "  except UnicodeDecodeError:\n",
        "    f = open(fpath, 'r', encoding = 'ISO-8859-1')\n",
        "    text = f.read()\n",
        "  return text"
      ],
      "execution_count": 5,
      "outputs": []
    },
    {
      "cell_type": "code",
      "metadata": {
        "colab": {
          "base_uri": "https://localhost:8080/",
          "height": 419
        },
        "id": "ygWJUGOLArEn",
        "outputId": "3e73a36a-3e93-40a3-9295-1e44d8a0d6b8"
      },
      "source": [
        "df = df.dropna(subset=['ArticleFile'])\n",
        "df['ArticleText'] = df['ArticleFile'].apply(lambda x: getArticleText(x))\n",
        "df['ArticleText'] = df['ArticleText'].apply(lambda x: re.sub(r'(\\n)+', '. ', x))\n",
        "df = df.drop(['DifficultyFromQuestioner', 'DifficultyFromAnswerer', 'ArticleFile'], axis='columns')\n",
        "df"
      ],
      "execution_count": 6,
      "outputs": [
        {
          "output_type": "execute_result",
          "data": {
            "text/html": [
              "<div>\n",
              "<style scoped>\n",
              "    .dataframe tbody tr th:only-of-type {\n",
              "        vertical-align: middle;\n",
              "    }\n",
              "\n",
              "    .dataframe tbody tr th {\n",
              "        vertical-align: top;\n",
              "    }\n",
              "\n",
              "    .dataframe thead th {\n",
              "        text-align: right;\n",
              "    }\n",
              "</style>\n",
              "<table border=\"1\" class=\"dataframe\">\n",
              "  <thead>\n",
              "    <tr style=\"text-align: right;\">\n",
              "      <th></th>\n",
              "      <th>ArticleTitle</th>\n",
              "      <th>Question</th>\n",
              "      <th>Answer</th>\n",
              "      <th>ArticleText</th>\n",
              "    </tr>\n",
              "  </thead>\n",
              "  <tbody>\n",
              "    <tr>\n",
              "      <th>0</th>\n",
              "      <td>Abraham_Lincoln</td>\n",
              "      <td>Was Abraham Lincoln the sixteenth President of...</td>\n",
              "      <td>yes</td>\n",
              "      <td>Abraham Lincoln. Abraham Lincoln (February 12,...</td>\n",
              "    </tr>\n",
              "    <tr>\n",
              "      <th>1</th>\n",
              "      <td>Abraham_Lincoln</td>\n",
              "      <td>Was Abraham Lincoln the sixteenth President of...</td>\n",
              "      <td>Yes.</td>\n",
              "      <td>Abraham Lincoln. Abraham Lincoln (February 12,...</td>\n",
              "    </tr>\n",
              "    <tr>\n",
              "      <th>2</th>\n",
              "      <td>Abraham_Lincoln</td>\n",
              "      <td>Did Lincoln sign the National Banking Act of 1...</td>\n",
              "      <td>yes</td>\n",
              "      <td>Abraham Lincoln. Abraham Lincoln (February 12,...</td>\n",
              "    </tr>\n",
              "    <tr>\n",
              "      <th>3</th>\n",
              "      <td>Abraham_Lincoln</td>\n",
              "      <td>Did Lincoln sign the National Banking Act of 1...</td>\n",
              "      <td>Yes.</td>\n",
              "      <td>Abraham Lincoln. Abraham Lincoln (February 12,...</td>\n",
              "    </tr>\n",
              "    <tr>\n",
              "      <th>4</th>\n",
              "      <td>Abraham_Lincoln</td>\n",
              "      <td>Did his mother die of pneumonia?</td>\n",
              "      <td>no</td>\n",
              "      <td>Abraham Lincoln. Abraham Lincoln (February 12,...</td>\n",
              "    </tr>\n",
              "    <tr>\n",
              "      <th>...</th>\n",
              "      <td>...</td>\n",
              "      <td>...</td>\n",
              "      <td>...</td>\n",
              "      <td>...</td>\n",
              "    </tr>\n",
              "    <tr>\n",
              "      <th>1453</th>\n",
              "      <td>Zebra</td>\n",
              "      <td>What areas do the Grevy's Zebras inhabit?</td>\n",
              "      <td>NaN</td>\n",
              "      <td>Zebra. Plains zebra. Grevy's zebra. Zebras are...</td>\n",
              "    </tr>\n",
              "    <tr>\n",
              "      <th>1454</th>\n",
              "      <td>Zebra</td>\n",
              "      <td>Which species of zebra is known as the common ...</td>\n",
              "      <td>Plains Zebra (Equus quagga, formerly Equus bur...</td>\n",
              "      <td>Zebra. Plains zebra. Grevy's zebra. Zebras are...</td>\n",
              "    </tr>\n",
              "    <tr>\n",
              "      <th>1455</th>\n",
              "      <td>Zebra</td>\n",
              "      <td>Which species of zebra is known as the common ...</td>\n",
              "      <td>Plains Zebra</td>\n",
              "      <td>Zebra. Plains zebra. Grevy's zebra. Zebras are...</td>\n",
              "    </tr>\n",
              "    <tr>\n",
              "      <th>1456</th>\n",
              "      <td>Zebra</td>\n",
              "      <td>At what age can a zebra breed?</td>\n",
              "      <td>five or six</td>\n",
              "      <td>Zebra. Plains zebra. Grevy's zebra. Zebras are...</td>\n",
              "    </tr>\n",
              "    <tr>\n",
              "      <th>1457</th>\n",
              "      <td>Zebra</td>\n",
              "      <td>At what age can a zebra breed?</td>\n",
              "      <td>5 or 6</td>\n",
              "      <td>Zebra. Plains zebra. Grevy's zebra. Zebras are...</td>\n",
              "    </tr>\n",
              "  </tbody>\n",
              "</table>\n",
              "<p>3996 rows × 4 columns</p>\n",
              "</div>"
            ],
            "text/plain": [
              "         ArticleTitle  ...                                        ArticleText\n",
              "0     Abraham_Lincoln  ...  Abraham Lincoln. Abraham Lincoln (February 12,...\n",
              "1     Abraham_Lincoln  ...  Abraham Lincoln. Abraham Lincoln (February 12,...\n",
              "2     Abraham_Lincoln  ...  Abraham Lincoln. Abraham Lincoln (February 12,...\n",
              "3     Abraham_Lincoln  ...  Abraham Lincoln. Abraham Lincoln (February 12,...\n",
              "4     Abraham_Lincoln  ...  Abraham Lincoln. Abraham Lincoln (February 12,...\n",
              "...               ...  ...                                                ...\n",
              "1453            Zebra  ...  Zebra. Plains zebra. Grevy's zebra. Zebras are...\n",
              "1454            Zebra  ...  Zebra. Plains zebra. Grevy's zebra. Zebras are...\n",
              "1455            Zebra  ...  Zebra. Plains zebra. Grevy's zebra. Zebras are...\n",
              "1456            Zebra  ...  Zebra. Plains zebra. Grevy's zebra. Zebras are...\n",
              "1457            Zebra  ...  Zebra. Plains zebra. Grevy's zebra. Zebras are...\n",
              "\n",
              "[3996 rows x 4 columns]"
            ]
          },
          "metadata": {
            "tags": []
          },
          "execution_count": 6
        }
      ]
    },
    {
      "cell_type": "code",
      "metadata": {
        "id": "-MxliGQsAsQ-"
      },
      "source": [
        "# stop_words = set(stopwords.words('english'))\n",
        "def cleanQuestion(text):\n",
        "  text = str(text)\n",
        "  # wnl = nltk.stem.WordNetLemmatizer()\n",
        "  text = text.lower()\n",
        "  words = re.sub(r'[^\\w\\s]', '', text).split()\n",
        "  # words = [word for word in words if not word in stop_words]\n",
        "  return \" \".join([word for word in words])\n",
        "\n",
        "def cleanAnswer(text):\n",
        "  text = str(text)\n",
        "  # wnl = nltk.stem.WordNetLemmatizer()\n",
        "  text = text.lower()\n",
        "  words = re.sub(r'[^\\w\\s]', '', text).split()\n",
        "  # words = [word for word in words if not word in stop_words]\n",
        "  return \" \".join([word for word in words])\n",
        "\n",
        "def cleanText(text):\n",
        "  text = str(text)\n",
        "  # wnl = nltk.stem.WordNetLemmatizer()\n",
        "  text = text.lower()\n",
        "  words = re.sub(r'[^\\w\\s\\.\\?]', '', text).split()\n",
        "  # words = [word for word in words if not word in stop_words]\n",
        "  return \" \".join([word for word in words])"
      ],
      "execution_count": 7,
      "outputs": []
    },
    {
      "cell_type": "code",
      "metadata": {
        "colab": {
          "base_uri": "https://localhost:8080/",
          "height": 419
        },
        "id": "LA7vN9AiAwmC",
        "outputId": "1b99838b-dee0-487e-b63d-ac580152d008"
      },
      "source": [
        "df['Question'] = df['Question'].apply(lambda x: cleanQuestion(x))\n",
        "df['Answer'] = df['Answer'].apply(lambda x: cleanAnswer(x))\n",
        "df['ArticleText'] = df['ArticleText'].apply(lambda x: cleanText(x))\n",
        "df"
      ],
      "execution_count": 8,
      "outputs": [
        {
          "output_type": "execute_result",
          "data": {
            "text/html": [
              "<div>\n",
              "<style scoped>\n",
              "    .dataframe tbody tr th:only-of-type {\n",
              "        vertical-align: middle;\n",
              "    }\n",
              "\n",
              "    .dataframe tbody tr th {\n",
              "        vertical-align: top;\n",
              "    }\n",
              "\n",
              "    .dataframe thead th {\n",
              "        text-align: right;\n",
              "    }\n",
              "</style>\n",
              "<table border=\"1\" class=\"dataframe\">\n",
              "  <thead>\n",
              "    <tr style=\"text-align: right;\">\n",
              "      <th></th>\n",
              "      <th>ArticleTitle</th>\n",
              "      <th>Question</th>\n",
              "      <th>Answer</th>\n",
              "      <th>ArticleText</th>\n",
              "    </tr>\n",
              "  </thead>\n",
              "  <tbody>\n",
              "    <tr>\n",
              "      <th>0</th>\n",
              "      <td>Abraham_Lincoln</td>\n",
              "      <td>was abraham lincoln the sixteenth president of...</td>\n",
              "      <td>yes</td>\n",
              "      <td>abraham lincoln. abraham lincoln february 12 1...</td>\n",
              "    </tr>\n",
              "    <tr>\n",
              "      <th>1</th>\n",
              "      <td>Abraham_Lincoln</td>\n",
              "      <td>was abraham lincoln the sixteenth president of...</td>\n",
              "      <td>yes</td>\n",
              "      <td>abraham lincoln. abraham lincoln february 12 1...</td>\n",
              "    </tr>\n",
              "    <tr>\n",
              "      <th>2</th>\n",
              "      <td>Abraham_Lincoln</td>\n",
              "      <td>did lincoln sign the national banking act of 1863</td>\n",
              "      <td>yes</td>\n",
              "      <td>abraham lincoln. abraham lincoln february 12 1...</td>\n",
              "    </tr>\n",
              "    <tr>\n",
              "      <th>3</th>\n",
              "      <td>Abraham_Lincoln</td>\n",
              "      <td>did lincoln sign the national banking act of 1863</td>\n",
              "      <td>yes</td>\n",
              "      <td>abraham lincoln. abraham lincoln february 12 1...</td>\n",
              "    </tr>\n",
              "    <tr>\n",
              "      <th>4</th>\n",
              "      <td>Abraham_Lincoln</td>\n",
              "      <td>did his mother die of pneumonia</td>\n",
              "      <td>no</td>\n",
              "      <td>abraham lincoln. abraham lincoln february 12 1...</td>\n",
              "    </tr>\n",
              "    <tr>\n",
              "      <th>...</th>\n",
              "      <td>...</td>\n",
              "      <td>...</td>\n",
              "      <td>...</td>\n",
              "      <td>...</td>\n",
              "    </tr>\n",
              "    <tr>\n",
              "      <th>1453</th>\n",
              "      <td>Zebra</td>\n",
              "      <td>what areas do the grevys zebras inhabit</td>\n",
              "      <td>nan</td>\n",
              "      <td>zebra. plains zebra. grevys zebra. zebras are ...</td>\n",
              "    </tr>\n",
              "    <tr>\n",
              "      <th>1454</th>\n",
              "      <td>Zebra</td>\n",
              "      <td>which species of zebra is known as the common ...</td>\n",
              "      <td>plains zebra equus quagga formerly equus burch...</td>\n",
              "      <td>zebra. plains zebra. grevys zebra. zebras are ...</td>\n",
              "    </tr>\n",
              "    <tr>\n",
              "      <th>1455</th>\n",
              "      <td>Zebra</td>\n",
              "      <td>which species of zebra is known as the common ...</td>\n",
              "      <td>plains zebra</td>\n",
              "      <td>zebra. plains zebra. grevys zebra. zebras are ...</td>\n",
              "    </tr>\n",
              "    <tr>\n",
              "      <th>1456</th>\n",
              "      <td>Zebra</td>\n",
              "      <td>at what age can a zebra breed</td>\n",
              "      <td>five or six</td>\n",
              "      <td>zebra. plains zebra. grevys zebra. zebras are ...</td>\n",
              "    </tr>\n",
              "    <tr>\n",
              "      <th>1457</th>\n",
              "      <td>Zebra</td>\n",
              "      <td>at what age can a zebra breed</td>\n",
              "      <td>5 or 6</td>\n",
              "      <td>zebra. plains zebra. grevys zebra. zebras are ...</td>\n",
              "    </tr>\n",
              "  </tbody>\n",
              "</table>\n",
              "<p>3996 rows × 4 columns</p>\n",
              "</div>"
            ],
            "text/plain": [
              "         ArticleTitle  ...                                        ArticleText\n",
              "0     Abraham_Lincoln  ...  abraham lincoln. abraham lincoln february 12 1...\n",
              "1     Abraham_Lincoln  ...  abraham lincoln. abraham lincoln february 12 1...\n",
              "2     Abraham_Lincoln  ...  abraham lincoln. abraham lincoln february 12 1...\n",
              "3     Abraham_Lincoln  ...  abraham lincoln. abraham lincoln february 12 1...\n",
              "4     Abraham_Lincoln  ...  abraham lincoln. abraham lincoln february 12 1...\n",
              "...               ...  ...                                                ...\n",
              "1453            Zebra  ...  zebra. plains zebra. grevys zebra. zebras are ...\n",
              "1454            Zebra  ...  zebra. plains zebra. grevys zebra. zebras are ...\n",
              "1455            Zebra  ...  zebra. plains zebra. grevys zebra. zebras are ...\n",
              "1456            Zebra  ...  zebra. plains zebra. grevys zebra. zebras are ...\n",
              "1457            Zebra  ...  zebra. plains zebra. grevys zebra. zebras are ...\n",
              "\n",
              "[3996 rows x 4 columns]"
            ]
          },
          "metadata": {
            "tags": []
          },
          "execution_count": 8
        }
      ]
    },
    {
      "cell_type": "code",
      "metadata": {
        "id": "66X-UyzcAyeS"
      },
      "source": [
        "use_cuda = True"
      ],
      "execution_count": 9,
      "outputs": []
    },
    {
      "cell_type": "code",
      "metadata": {
        "id": "txC_e59DBkls"
      },
      "source": [
        "tokenizer = BertTokenizer.from_pretrained('bert-large-uncased-whole-word-masking-finetuned-squad')\n",
        "model = BertForQuestionAnswering.from_pretrained('bert-large-uncased-whole-word-masking-finetuned-squad')"
      ],
      "execution_count": 10,
      "outputs": []
    },
    {
      "cell_type": "code",
      "metadata": {
        "id": "1CFk7_ESCGqG"
      },
      "source": [
        "def getGraph(start_scores, end_scores, tokens):\n",
        "\n",
        "  # x-axis: unique tokens\n",
        "  # y-axis: start word score for each token\n",
        "\n",
        "  # Pull the scores from Tensors and convert to 1-D np arrays\n",
        "  start_scores = start_scores.detach().numpy().flatten()\n",
        "  end_scores = end_scores.detach().numpy().flatten()\n",
        "\n",
        "  # We add unique token index to each token\n",
        "  token_label = list()\n",
        "  for (i, t) in enumerate(tokens):\n",
        "      token_label.append('{:} - {:>2}'.format(t, i))\n",
        "\n",
        "  # Plot Graph\n",
        "  sns.set(style='darkgrid')\n",
        "  plt.rcParams[\"figure.figsize\"] = (24,8)\n",
        "  ax = sns.barplot(x=token_labels, y=s_scores, ci=None)\n",
        "  ax.set_xticklabels(ax.get_xticklabels(), rotation=90, ha=\"center\")\n",
        "  ax.grid(True)\n",
        "  plt.title('Start Word Scores for Each unique Token in Context')\n",
        "  plt.show()"
      ],
      "execution_count": 11,
      "outputs": []
    },
    {
      "cell_type": "code",
      "metadata": {
        "id": "yP_4iiGezSDh"
      },
      "source": [
        "def getSim(q, x):\n",
        "  x = (str(x).split(), 0)\n",
        "  sim = metrics.pairwise.cosine_similarity(sifmodel.infer([q]), sifmodel.infer([x]))\n",
        "  return sim\n",
        "\n",
        "def getBestAnswer(question, potentials):\n",
        "  q = (str(question).split(), 0)\n",
        "  c = pd.DataFrame(potentials)\n",
        "  c['sim'] = c[0].apply(lambda x: getSim(q, x))\n",
        "  max = c.sort_values(by='sim', ascending=False).iloc[:3]\n",
        "  return max[0]"
      ],
      "execution_count": 12,
      "outputs": []
    },
    {
      "cell_type": "code",
      "metadata": {
        "id": "zb0UuKxMzFnj"
      },
      "source": [
        "from fse.models import uSIF\n",
        "glove = api.load(\"glove-wiki-gigaword-100\")\n",
        "sifmodel = uSIF(glove, workers=2, lang_freq=\"en\")"
      ],
      "execution_count": 13,
      "outputs": []
    },
    {
      "cell_type": "code",
      "metadata": {
        "colab": {
          "base_uri": "https://localhost:8080/"
        },
        "id": "AF3WspLM1t6t",
        "outputId": "690bc4ce-94b0-4c9f-9e25-57aac67ec69c"
      },
      "source": [
        "sifmodel.train(SplitIndexedList(list(df['ArticleText'])))"
      ],
      "execution_count": 14,
      "outputs": [
        {
          "output_type": "execute_result",
          "data": {
            "text/plain": [
              "(3996, 17283272)"
            ]
          },
          "metadata": {
            "tags": []
          },
          "execution_count": 14
        }
      ]
    },
    {
      "cell_type": "code",
      "metadata": {
        "id": "GhGvmvFSKwlW"
      },
      "source": [
        "def get_split(text1):\n",
        "\n",
        "  #Reference: https://medium.com/@armandj.olivares/using-bert-for-classifying-documents-with-long-texts-5c3e7b04573d\n",
        "  \n",
        "  l_total = []\n",
        "  l_parcial = []\n",
        "  if len(text1.split())//250 >0:\n",
        "    n = len(text1.split())//250\n",
        "  else: \n",
        "    n = 1\n",
        "  for w in range(n):\n",
        "    if w == 0:\n",
        "      l_parcial = text1.split()[:350]\n",
        "      l_total.append(\" \".join(l_parcial))\n",
        "    else:\n",
        "      l_parcial = text1.split()[w*250:w*250 + 350]\n",
        "      l_total.append(\" \".join(l_parcial))\n",
        "  return l_total"
      ],
      "execution_count": 15,
      "outputs": []
    },
    {
      "cell_type": "code",
      "metadata": {
        "id": "karAIDbpBkol"
      },
      "source": [
        "def getAnswer(question, context):\n",
        "\n",
        "  # print('Query Context has {} tokens.'.format(len(tokenizer.encode(context))))\n",
        "\n",
        "  context_list = get_split(context)\n",
        "\n",
        "  ans = []\n",
        "\n",
        "  for c in context_list:\n",
        "\n",
        "    encoding = tokenizer.encode_plus(text=question,text_pair=c)\n",
        "\n",
        "    inputs = encoding['input_ids']  #Token embeddings\n",
        "    sentence_embedding = encoding['token_type_ids']  #Segment embeddings\n",
        "    tokens = tokenizer.convert_ids_to_tokens(inputs) #input tokens\n",
        "\n",
        "    start_scores, end_scores = model(input_ids=torch.tensor([inputs]), token_type_ids=torch.tensor([sentence_embedding]))\n",
        "\n",
        "    start_index = torch.argmax(start_scores)\n",
        "\n",
        "    end_index = torch.argmax(end_scores)\n",
        "\n",
        "    answer = ' '.join(tokens[start_index:end_index+1])\n",
        "\n",
        "    ans.append(answer)\n",
        "  print('Question: ', question)\n",
        "\n",
        "  potentials = []\n",
        "  for i in ans:\n",
        "    if ('SEP' not in i) and ('CLS' not in i):\n",
        "      potentials.append(re.sub('(#)+', '', i))\n",
        "\n",
        "  answer = getBestAnswer(question, potentials)\n",
        "\n",
        "  print('Potential Answers: \\n')\n",
        "  print(answer.head())"
      ],
      "execution_count": 24,
      "outputs": []
    },
    {
      "cell_type": "code",
      "metadata": {
        "colab": {
          "base_uri": "https://localhost:8080/"
        },
        "id": "gw3iMw5IyC5E",
        "outputId": "65f3ef48-6993-4d1b-bacf-46a7a2289e07"
      },
      "source": [
        "getAnswer(df['Question'].iloc[17], df['ArticleText'].iloc[17])\n",
        "print('Actual Answer: ', df['Answer'].iloc[17])"
      ],
      "execution_count": 25,
      "outputs": [
        {
          "output_type": "stream",
          "text": [
            "Question:  did lincoln beat john c breckinridge in the 1860 election\n",
            "Potential Answers: \n",
            "\n",
            "0    lincoln won the republican party nomination in 1860 and was elected president later that year\n",
            "1    lincoln was elected as the 16th president of the united states                               \n",
            "3    he easily defeated efforts to deny his reno mina tion                                        \n",
            "Name: 0, dtype: object\n",
            "Actual Answer:  yes\n"
          ],
          "name": "stdout"
        }
      ]
    },
    {
      "cell_type": "code",
      "metadata": {
        "colab": {
          "base_uri": "https://localhost:8080/"
        },
        "id": "MltdTuQU4G0k",
        "outputId": "17246e19-e8f3-4ec0-c4ee-b8a3cd14611e"
      },
      "source": [
        "getAnswer(df['Question'].iloc[388], df['ArticleText'].iloc[388])\n",
        "print('Actual Answer: ', df['Answer'].iloc[388])"
      ],
      "execution_count": 26,
      "outputs": [
        {
          "output_type": "stream",
          "text": [
            "Question:  what allows a duck to filter water out of the side of their beaks and keep food inside\n",
            "Potential Answers: \n",
            "\n",
            "1    tiny rows of plates called lame lla e\n",
            "0    lame lla e                           \n",
            "Name: 0, dtype: object\n",
            "Actual Answer:  tiny rows of plates called lamellae like a whales baleen\n"
          ],
          "name": "stdout"
        }
      ]
    },
    {
      "cell_type": "code",
      "metadata": {
        "colab": {
          "base_uri": "https://localhost:8080/"
        },
        "id": "fzDkPPAEE-Ma",
        "outputId": "0a5d9acc-89e6-44a6-ba18-fa0235b8ae19"
      },
      "source": [
        "getAnswer(df['Question'].iloc[300], df['ArticleText'].iloc[300])\n",
        "print('Actual Answer: ', df['Answer'].iloc[300])"
      ],
      "execution_count": 27,
      "outputs": [
        {
          "output_type": "stream",
          "text": [
            "Question:  which countries established colonies in canada\n",
            "Potential Answers: \n",
            "\n",
            "1    britain and the united states\n",
            "2    british and french colonies  \n",
            "0    british and french           \n",
            "Name: 0, dtype: object\n",
            "Actual Answer:  nan\n"
          ],
          "name": "stdout"
        }
      ]
    },
    {
      "cell_type": "code",
      "metadata": {
        "colab": {
          "base_uri": "https://localhost:8080/"
        },
        "id": "XQkNXbZn4G29",
        "outputId": "ff3bafda-53b6-4adf-c027-016b32213cb8"
      },
      "source": [
        "getAnswer(df['Question'].iloc[255], df['ArticleText'].iloc[255])\n",
        "print('Actual Answer: ', df['Answer'].iloc[255])"
      ],
      "execution_count": 20,
      "outputs": [
        {
          "output_type": "stream",
          "text": [
            "Question:  what years were coolidges two sons born in\n",
            "Potential Answers: \n",
            " 2    1906\n",
            "0    1872\n",
            "1    1872\n",
            "Name: 0, dtype: object\n",
            "Actual Answer:  1906 and 1908\n"
          ],
          "name": "stdout"
        }
      ]
    },
    {
      "cell_type": "code",
      "metadata": {
        "colab": {
          "base_uri": "https://localhost:8080/"
        },
        "id": "ebac6f_y4G7I",
        "outputId": "2a38ff97-5e9e-4d28-8797-000c839cebd1"
      },
      "source": [
        "getAnswer(df['Question'].iloc[171], df['ArticleText'].iloc[171])\n",
        "print('Actual Answer: ', df['Answer'].iloc[171])"
      ],
      "execution_count": 28,
      "outputs": [
        {
          "output_type": "stream",
          "text": [
            "Question:  what do beetles eat\n",
            "Potential Answers: \n",
            "\n",
            "0    they often feed on plants and fungi break down animal and plant debris and eat other invertebrates\n",
            "1                                                                                                      \n",
            "Name: 0, dtype: object\n",
            "Actual Answer:  they often feed on plants and fungi break down animal and plant debris and eat other invertebrates\n"
          ],
          "name": "stdout"
        }
      ]
    },
    {
      "cell_type": "code",
      "metadata": {
        "colab": {
          "base_uri": "https://localhost:8080/"
        },
        "id": "kA8DDDbm4L2O",
        "outputId": "8b6f6857-b524-4b7e-bee9-6f6fb3a63a2d"
      },
      "source": [
        "getAnswer(df['Question'].iloc[666], df['ArticleText'].iloc[666])\n",
        "print('Actual Answer: ', df['Answer'].iloc[666])"
      ],
      "execution_count": 29,
      "outputs": [
        {
          "output_type": "stream",
          "text": [
            "Question:  do wolves leave their pack\n",
            "Potential Answers: \n",
            "\n",
            "1    the instinct to reproduce drives young wolves away from their birth packs leading them to seek out mates and territories of their own\n",
            "2    the instinct to reproduce drives young wolves away from their birth packs leading them to seek out mates and territories of their own\n",
            "3    many of them will be compelled to leave their birth packs and seek out mates and territories of their own                            \n",
            "Name: 0, dtype: object\n",
            "Actual Answer:  they leave their birth pack when they reach sexual maturity\n"
          ],
          "name": "stdout"
        }
      ]
    },
    {
      "cell_type": "code",
      "metadata": {
        "colab": {
          "base_uri": "https://localhost:8080/"
        },
        "id": "Kxjxu8fs485X",
        "outputId": "a2f37800-fbea-4cd4-bb61-d723ccf1142e"
      },
      "source": [
        "getAnswer(df['Question'].iloc[999], df['ArticleText'].iloc[999])\n",
        "print('Actual Answer: ', df['Answer'].iloc[999])"
      ],
      "execution_count": 32,
      "outputs": [
        {
          "output_type": "stream",
          "text": [
            "Question:  what is a hybrid animal resulting from a union between a leopard and a puma\n",
            "Potential Answers: \n",
            "\n",
            "2    leopard ess\n",
            "0    leopard    \n",
            "1    pu ma par d\n",
            "Name: 0, dtype: object\n",
            "Actual Answer:  a pumapard\n"
          ],
          "name": "stdout"
        }
      ]
    },
    {
      "cell_type": "code",
      "metadata": {
        "colab": {
          "base_uri": "https://localhost:8080/"
        },
        "id": "SAxohEUmAF_c",
        "outputId": "bdf35933-4e71-4bb7-892f-fbaad2b47cf2"
      },
      "source": [
        "getAnswer(df['Question'].iloc[113], df['ArticleText'].iloc[113])\n",
        "print('Actual Answer: ', df['Answer'].iloc[113])"
      ],
      "execution_count": 33,
      "outputs": [
        {
          "output_type": "stream",
          "text": [
            "Question:  he is what\n",
            "Potential Answers: \n",
            "\n",
            "1    a great italian chemist\n",
            "0    an italian sava nt     \n",
            "Name: 0, dtype: object\n",
            "Actual Answer:  nan\n"
          ],
          "name": "stdout"
        }
      ]
    },
    {
      "cell_type": "code",
      "metadata": {
        "colab": {
          "base_uri": "https://localhost:8080/"
        },
        "id": "E9qdHICRLUwf",
        "outputId": "b73f32eb-dc48-4cc0-8348-8a977508e1f5"
      },
      "source": [
        "getAnswer(df['Question'].iloc[1166], df['ArticleText'].iloc[1166])\n",
        "print('Actual Answer: ', df['Answer'].iloc[1166])"
      ],
      "execution_count": 34,
      "outputs": [
        {
          "output_type": "stream",
          "text": [
            "Question:  how many species of otter are there\n",
            "Potential Answers: \n",
            "\n",
            "0    13 species\n",
            "Name: 0, dtype: object\n",
            "Actual Answer:  13\n"
          ],
          "name": "stdout"
        }
      ]
    },
    {
      "cell_type": "code",
      "metadata": {
        "id": "h5_l9OXFLiIT"
      },
      "source": [
        ""
      ],
      "execution_count": null,
      "outputs": []
    }
  ]
}