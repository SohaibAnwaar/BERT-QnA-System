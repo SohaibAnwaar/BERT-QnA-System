{
  "nbformat": 4,
  "nbformat_minor": 0,
  "metadata": {
    "colab": {
      "name": "UIP-QnA.ipynb",
      "provenance": [],
      "authorship_tag": "ABX9TyNcaLSWB+BNFAOO1D78Hdk2",
      "include_colab_link": true
    },
    "kernelspec": {
      "name": "python3",
      "display_name": "Python 3"
    },
    "accelerator": "GPU",
    "widgets": {
      "application/vnd.jupyter.widget-state+json": {
        "20ddbde66adc496f91fe69d97ead0c74": {
          "model_module": "@jupyter-widgets/controls",
          "model_name": "HBoxModel",
          "state": {
            "_view_name": "HBoxView",
            "_dom_classes": [],
            "_model_name": "HBoxModel",
            "_view_module": "@jupyter-widgets/controls",
            "_model_module_version": "1.5.0",
            "_view_count": null,
            "_view_module_version": "1.5.0",
            "box_style": "",
            "layout": "IPY_MODEL_6289a70630764922afaa9d6f99bfc9b1",
            "_model_module": "@jupyter-widgets/controls",
            "children": [
              "IPY_MODEL_54ed8a35c6c2461dbb310c41dabe6996",
              "IPY_MODEL_9a77b65a98e848b9b5b77b7765de7880"
            ]
          }
        },
        "6289a70630764922afaa9d6f99bfc9b1": {
          "model_module": "@jupyter-widgets/base",
          "model_name": "LayoutModel",
          "state": {
            "_view_name": "LayoutView",
            "grid_template_rows": null,
            "right": null,
            "justify_content": null,
            "_view_module": "@jupyter-widgets/base",
            "overflow": null,
            "_model_module_version": "1.2.0",
            "_view_count": null,
            "flex_flow": null,
            "width": null,
            "min_width": null,
            "border": null,
            "align_items": null,
            "bottom": null,
            "_model_module": "@jupyter-widgets/base",
            "top": null,
            "grid_column": null,
            "overflow_y": null,
            "overflow_x": null,
            "grid_auto_flow": null,
            "grid_area": null,
            "grid_template_columns": null,
            "flex": null,
            "_model_name": "LayoutModel",
            "justify_items": null,
            "grid_row": null,
            "max_height": null,
            "align_content": null,
            "visibility": null,
            "align_self": null,
            "height": null,
            "min_height": null,
            "padding": null,
            "grid_auto_rows": null,
            "grid_gap": null,
            "max_width": null,
            "order": null,
            "_view_module_version": "1.2.0",
            "grid_template_areas": null,
            "object_position": null,
            "object_fit": null,
            "grid_auto_columns": null,
            "margin": null,
            "display": null,
            "left": null
          }
        },
        "54ed8a35c6c2461dbb310c41dabe6996": {
          "model_module": "@jupyter-widgets/controls",
          "model_name": "FloatProgressModel",
          "state": {
            "_view_name": "ProgressView",
            "style": "IPY_MODEL_094215ad5def4a27ad7fbdeb49174546",
            "_dom_classes": [],
            "description": "Downloading: 100%",
            "_model_name": "FloatProgressModel",
            "bar_style": "success",
            "max": 443,
            "_view_module": "@jupyter-widgets/controls",
            "_model_module_version": "1.5.0",
            "value": 443,
            "_view_count": null,
            "_view_module_version": "1.5.0",
            "orientation": "horizontal",
            "min": 0,
            "description_tooltip": null,
            "_model_module": "@jupyter-widgets/controls",
            "layout": "IPY_MODEL_d91c93278dc446e39ecff2f8767dcfaa"
          }
        },
        "9a77b65a98e848b9b5b77b7765de7880": {
          "model_module": "@jupyter-widgets/controls",
          "model_name": "HTMLModel",
          "state": {
            "_view_name": "HTMLView",
            "style": "IPY_MODEL_c68acb48d3e94ffa90e41eeecbcd2682",
            "_dom_classes": [],
            "description": "",
            "_model_name": "HTMLModel",
            "placeholder": "​",
            "_view_module": "@jupyter-widgets/controls",
            "_model_module_version": "1.5.0",
            "value": " 443/443 [00:00&lt;00:00, 831B/s]",
            "_view_count": null,
            "_view_module_version": "1.5.0",
            "description_tooltip": null,
            "_model_module": "@jupyter-widgets/controls",
            "layout": "IPY_MODEL_aefab1c8ff544bf68f6ed989dfd68a76"
          }
        },
        "094215ad5def4a27ad7fbdeb49174546": {
          "model_module": "@jupyter-widgets/controls",
          "model_name": "ProgressStyleModel",
          "state": {
            "_view_name": "StyleView",
            "_model_name": "ProgressStyleModel",
            "description_width": "initial",
            "_view_module": "@jupyter-widgets/base",
            "_model_module_version": "1.5.0",
            "_view_count": null,
            "_view_module_version": "1.2.0",
            "bar_color": null,
            "_model_module": "@jupyter-widgets/controls"
          }
        },
        "d91c93278dc446e39ecff2f8767dcfaa": {
          "model_module": "@jupyter-widgets/base",
          "model_name": "LayoutModel",
          "state": {
            "_view_name": "LayoutView",
            "grid_template_rows": null,
            "right": null,
            "justify_content": null,
            "_view_module": "@jupyter-widgets/base",
            "overflow": null,
            "_model_module_version": "1.2.0",
            "_view_count": null,
            "flex_flow": null,
            "width": null,
            "min_width": null,
            "border": null,
            "align_items": null,
            "bottom": null,
            "_model_module": "@jupyter-widgets/base",
            "top": null,
            "grid_column": null,
            "overflow_y": null,
            "overflow_x": null,
            "grid_auto_flow": null,
            "grid_area": null,
            "grid_template_columns": null,
            "flex": null,
            "_model_name": "LayoutModel",
            "justify_items": null,
            "grid_row": null,
            "max_height": null,
            "align_content": null,
            "visibility": null,
            "align_self": null,
            "height": null,
            "min_height": null,
            "padding": null,
            "grid_auto_rows": null,
            "grid_gap": null,
            "max_width": null,
            "order": null,
            "_view_module_version": "1.2.0",
            "grid_template_areas": null,
            "object_position": null,
            "object_fit": null,
            "grid_auto_columns": null,
            "margin": null,
            "display": null,
            "left": null
          }
        },
        "c68acb48d3e94ffa90e41eeecbcd2682": {
          "model_module": "@jupyter-widgets/controls",
          "model_name": "DescriptionStyleModel",
          "state": {
            "_view_name": "StyleView",
            "_model_name": "DescriptionStyleModel",
            "description_width": "",
            "_view_module": "@jupyter-widgets/base",
            "_model_module_version": "1.5.0",
            "_view_count": null,
            "_view_module_version": "1.2.0",
            "_model_module": "@jupyter-widgets/controls"
          }
        },
        "aefab1c8ff544bf68f6ed989dfd68a76": {
          "model_module": "@jupyter-widgets/base",
          "model_name": "LayoutModel",
          "state": {
            "_view_name": "LayoutView",
            "grid_template_rows": null,
            "right": null,
            "justify_content": null,
            "_view_module": "@jupyter-widgets/base",
            "overflow": null,
            "_model_module_version": "1.2.0",
            "_view_count": null,
            "flex_flow": null,
            "width": null,
            "min_width": null,
            "border": null,
            "align_items": null,
            "bottom": null,
            "_model_module": "@jupyter-widgets/base",
            "top": null,
            "grid_column": null,
            "overflow_y": null,
            "overflow_x": null,
            "grid_auto_flow": null,
            "grid_area": null,
            "grid_template_columns": null,
            "flex": null,
            "_model_name": "LayoutModel",
            "justify_items": null,
            "grid_row": null,
            "max_height": null,
            "align_content": null,
            "visibility": null,
            "align_self": null,
            "height": null,
            "min_height": null,
            "padding": null,
            "grid_auto_rows": null,
            "grid_gap": null,
            "max_width": null,
            "order": null,
            "_view_module_version": "1.2.0",
            "grid_template_areas": null,
            "object_position": null,
            "object_fit": null,
            "grid_auto_columns": null,
            "margin": null,
            "display": null,
            "left": null
          }
        },
        "e590502bd1724063b7a59f360458ccb4": {
          "model_module": "@jupyter-widgets/controls",
          "model_name": "HBoxModel",
          "state": {
            "_view_name": "HBoxView",
            "_dom_classes": [],
            "_model_name": "HBoxModel",
            "_view_module": "@jupyter-widgets/controls",
            "_model_module_version": "1.5.0",
            "_view_count": null,
            "_view_module_version": "1.5.0",
            "box_style": "",
            "layout": "IPY_MODEL_d9008dfaac00414e9d19a9f2b9076f7f",
            "_model_module": "@jupyter-widgets/controls",
            "children": [
              "IPY_MODEL_00cd51cf2f52429192b407397b9923f4",
              "IPY_MODEL_6a30531a461d45bba5a3f08d1fb62853"
            ]
          }
        },
        "d9008dfaac00414e9d19a9f2b9076f7f": {
          "model_module": "@jupyter-widgets/base",
          "model_name": "LayoutModel",
          "state": {
            "_view_name": "LayoutView",
            "grid_template_rows": null,
            "right": null,
            "justify_content": null,
            "_view_module": "@jupyter-widgets/base",
            "overflow": null,
            "_model_module_version": "1.2.0",
            "_view_count": null,
            "flex_flow": null,
            "width": null,
            "min_width": null,
            "border": null,
            "align_items": null,
            "bottom": null,
            "_model_module": "@jupyter-widgets/base",
            "top": null,
            "grid_column": null,
            "overflow_y": null,
            "overflow_x": null,
            "grid_auto_flow": null,
            "grid_area": null,
            "grid_template_columns": null,
            "flex": null,
            "_model_name": "LayoutModel",
            "justify_items": null,
            "grid_row": null,
            "max_height": null,
            "align_content": null,
            "visibility": null,
            "align_self": null,
            "height": null,
            "min_height": null,
            "padding": null,
            "grid_auto_rows": null,
            "grid_gap": null,
            "max_width": null,
            "order": null,
            "_view_module_version": "1.2.0",
            "grid_template_areas": null,
            "object_position": null,
            "object_fit": null,
            "grid_auto_columns": null,
            "margin": null,
            "display": null,
            "left": null
          }
        },
        "00cd51cf2f52429192b407397b9923f4": {
          "model_module": "@jupyter-widgets/controls",
          "model_name": "FloatProgressModel",
          "state": {
            "_view_name": "ProgressView",
            "style": "IPY_MODEL_eb74b002db9946ffa57fb56efb337ed5",
            "_dom_classes": [],
            "description": "Downloading: 100%",
            "_model_name": "FloatProgressModel",
            "bar_style": "success",
            "max": 1340675298,
            "_view_module": "@jupyter-widgets/controls",
            "_model_module_version": "1.5.0",
            "value": 1340675298,
            "_view_count": null,
            "_view_module_version": "1.5.0",
            "orientation": "horizontal",
            "min": 0,
            "description_tooltip": null,
            "_model_module": "@jupyter-widgets/controls",
            "layout": "IPY_MODEL_041b164e6869410896eef47b5bf66a0e"
          }
        },
        "6a30531a461d45bba5a3f08d1fb62853": {
          "model_module": "@jupyter-widgets/controls",
          "model_name": "HTMLModel",
          "state": {
            "_view_name": "HTMLView",
            "style": "IPY_MODEL_8766149384934e8a83ac674d9cbb4055",
            "_dom_classes": [],
            "description": "",
            "_model_name": "HTMLModel",
            "placeholder": "​",
            "_view_module": "@jupyter-widgets/controls",
            "_model_module_version": "1.5.0",
            "value": " 1.34G/1.34G [00:27&lt;00:00, 48.1MB/s]",
            "_view_count": null,
            "_view_module_version": "1.5.0",
            "description_tooltip": null,
            "_model_module": "@jupyter-widgets/controls",
            "layout": "IPY_MODEL_d0494daddca24b418a2e237b4d996253"
          }
        },
        "eb74b002db9946ffa57fb56efb337ed5": {
          "model_module": "@jupyter-widgets/controls",
          "model_name": "ProgressStyleModel",
          "state": {
            "_view_name": "StyleView",
            "_model_name": "ProgressStyleModel",
            "description_width": "initial",
            "_view_module": "@jupyter-widgets/base",
            "_model_module_version": "1.5.0",
            "_view_count": null,
            "_view_module_version": "1.2.0",
            "bar_color": null,
            "_model_module": "@jupyter-widgets/controls"
          }
        },
        "041b164e6869410896eef47b5bf66a0e": {
          "model_module": "@jupyter-widgets/base",
          "model_name": "LayoutModel",
          "state": {
            "_view_name": "LayoutView",
            "grid_template_rows": null,
            "right": null,
            "justify_content": null,
            "_view_module": "@jupyter-widgets/base",
            "overflow": null,
            "_model_module_version": "1.2.0",
            "_view_count": null,
            "flex_flow": null,
            "width": null,
            "min_width": null,
            "border": null,
            "align_items": null,
            "bottom": null,
            "_model_module": "@jupyter-widgets/base",
            "top": null,
            "grid_column": null,
            "overflow_y": null,
            "overflow_x": null,
            "grid_auto_flow": null,
            "grid_area": null,
            "grid_template_columns": null,
            "flex": null,
            "_model_name": "LayoutModel",
            "justify_items": null,
            "grid_row": null,
            "max_height": null,
            "align_content": null,
            "visibility": null,
            "align_self": null,
            "height": null,
            "min_height": null,
            "padding": null,
            "grid_auto_rows": null,
            "grid_gap": null,
            "max_width": null,
            "order": null,
            "_view_module_version": "1.2.0",
            "grid_template_areas": null,
            "object_position": null,
            "object_fit": null,
            "grid_auto_columns": null,
            "margin": null,
            "display": null,
            "left": null
          }
        },
        "8766149384934e8a83ac674d9cbb4055": {
          "model_module": "@jupyter-widgets/controls",
          "model_name": "DescriptionStyleModel",
          "state": {
            "_view_name": "StyleView",
            "_model_name": "DescriptionStyleModel",
            "description_width": "",
            "_view_module": "@jupyter-widgets/base",
            "_model_module_version": "1.5.0",
            "_view_count": null,
            "_view_module_version": "1.2.0",
            "_model_module": "@jupyter-widgets/controls"
          }
        },
        "d0494daddca24b418a2e237b4d996253": {
          "model_module": "@jupyter-widgets/base",
          "model_name": "LayoutModel",
          "state": {
            "_view_name": "LayoutView",
            "grid_template_rows": null,
            "right": null,
            "justify_content": null,
            "_view_module": "@jupyter-widgets/base",
            "overflow": null,
            "_model_module_version": "1.2.0",
            "_view_count": null,
            "flex_flow": null,
            "width": null,
            "min_width": null,
            "border": null,
            "align_items": null,
            "bottom": null,
            "_model_module": "@jupyter-widgets/base",
            "top": null,
            "grid_column": null,
            "overflow_y": null,
            "overflow_x": null,
            "grid_auto_flow": null,
            "grid_area": null,
            "grid_template_columns": null,
            "flex": null,
            "_model_name": "LayoutModel",
            "justify_items": null,
            "grid_row": null,
            "max_height": null,
            "align_content": null,
            "visibility": null,
            "align_self": null,
            "height": null,
            "min_height": null,
            "padding": null,
            "grid_auto_rows": null,
            "grid_gap": null,
            "max_width": null,
            "order": null,
            "_view_module_version": "1.2.0",
            "grid_template_areas": null,
            "object_position": null,
            "object_fit": null,
            "grid_auto_columns": null,
            "margin": null,
            "display": null,
            "left": null
          }
        },
        "92d5a824c45642be9564f149bbc38b6f": {
          "model_module": "@jupyter-widgets/controls",
          "model_name": "HBoxModel",
          "state": {
            "_view_name": "HBoxView",
            "_dom_classes": [],
            "_model_name": "HBoxModel",
            "_view_module": "@jupyter-widgets/controls",
            "_model_module_version": "1.5.0",
            "_view_count": null,
            "_view_module_version": "1.5.0",
            "box_style": "",
            "layout": "IPY_MODEL_7371345c392948ec9ff05f52e205277b",
            "_model_module": "@jupyter-widgets/controls",
            "children": [
              "IPY_MODEL_52f10773b35b418d85acd2fb76d907ee",
              "IPY_MODEL_a4d65ec6717e420c8dae22a47e1f1299"
            ]
          }
        },
        "7371345c392948ec9ff05f52e205277b": {
          "model_module": "@jupyter-widgets/base",
          "model_name": "LayoutModel",
          "state": {
            "_view_name": "LayoutView",
            "grid_template_rows": null,
            "right": null,
            "justify_content": null,
            "_view_module": "@jupyter-widgets/base",
            "overflow": null,
            "_model_module_version": "1.2.0",
            "_view_count": null,
            "flex_flow": null,
            "width": null,
            "min_width": null,
            "border": null,
            "align_items": null,
            "bottom": null,
            "_model_module": "@jupyter-widgets/base",
            "top": null,
            "grid_column": null,
            "overflow_y": null,
            "overflow_x": null,
            "grid_auto_flow": null,
            "grid_area": null,
            "grid_template_columns": null,
            "flex": null,
            "_model_name": "LayoutModel",
            "justify_items": null,
            "grid_row": null,
            "max_height": null,
            "align_content": null,
            "visibility": null,
            "align_self": null,
            "height": null,
            "min_height": null,
            "padding": null,
            "grid_auto_rows": null,
            "grid_gap": null,
            "max_width": null,
            "order": null,
            "_view_module_version": "1.2.0",
            "grid_template_areas": null,
            "object_position": null,
            "object_fit": null,
            "grid_auto_columns": null,
            "margin": null,
            "display": null,
            "left": null
          }
        },
        "52f10773b35b418d85acd2fb76d907ee": {
          "model_module": "@jupyter-widgets/controls",
          "model_name": "FloatProgressModel",
          "state": {
            "_view_name": "ProgressView",
            "style": "IPY_MODEL_b07d31b7a5ef4a6b966c6894a582739e",
            "_dom_classes": [],
            "description": "Downloading: 100%",
            "_model_name": "FloatProgressModel",
            "bar_style": "success",
            "max": 231508,
            "_view_module": "@jupyter-widgets/controls",
            "_model_module_version": "1.5.0",
            "value": 231508,
            "_view_count": null,
            "_view_module_version": "1.5.0",
            "orientation": "horizontal",
            "min": 0,
            "description_tooltip": null,
            "_model_module": "@jupyter-widgets/controls",
            "layout": "IPY_MODEL_c9a7cf34373b4f0ea740048454adb9d7"
          }
        },
        "a4d65ec6717e420c8dae22a47e1f1299": {
          "model_module": "@jupyter-widgets/controls",
          "model_name": "HTMLModel",
          "state": {
            "_view_name": "HTMLView",
            "style": "IPY_MODEL_c9ee442e9ad348b58f131a943bb2fcdb",
            "_dom_classes": [],
            "description": "",
            "_model_name": "HTMLModel",
            "placeholder": "​",
            "_view_module": "@jupyter-widgets/controls",
            "_model_module_version": "1.5.0",
            "value": " 232k/232k [00:00&lt;00:00, 816kB/s]",
            "_view_count": null,
            "_view_module_version": "1.5.0",
            "description_tooltip": null,
            "_model_module": "@jupyter-widgets/controls",
            "layout": "IPY_MODEL_5986035fc83c4df38f942a64fadad043"
          }
        },
        "b07d31b7a5ef4a6b966c6894a582739e": {
          "model_module": "@jupyter-widgets/controls",
          "model_name": "ProgressStyleModel",
          "state": {
            "_view_name": "StyleView",
            "_model_name": "ProgressStyleModel",
            "description_width": "initial",
            "_view_module": "@jupyter-widgets/base",
            "_model_module_version": "1.5.0",
            "_view_count": null,
            "_view_module_version": "1.2.0",
            "bar_color": null,
            "_model_module": "@jupyter-widgets/controls"
          }
        },
        "c9a7cf34373b4f0ea740048454adb9d7": {
          "model_module": "@jupyter-widgets/base",
          "model_name": "LayoutModel",
          "state": {
            "_view_name": "LayoutView",
            "grid_template_rows": null,
            "right": null,
            "justify_content": null,
            "_view_module": "@jupyter-widgets/base",
            "overflow": null,
            "_model_module_version": "1.2.0",
            "_view_count": null,
            "flex_flow": null,
            "width": null,
            "min_width": null,
            "border": null,
            "align_items": null,
            "bottom": null,
            "_model_module": "@jupyter-widgets/base",
            "top": null,
            "grid_column": null,
            "overflow_y": null,
            "overflow_x": null,
            "grid_auto_flow": null,
            "grid_area": null,
            "grid_template_columns": null,
            "flex": null,
            "_model_name": "LayoutModel",
            "justify_items": null,
            "grid_row": null,
            "max_height": null,
            "align_content": null,
            "visibility": null,
            "align_self": null,
            "height": null,
            "min_height": null,
            "padding": null,
            "grid_auto_rows": null,
            "grid_gap": null,
            "max_width": null,
            "order": null,
            "_view_module_version": "1.2.0",
            "grid_template_areas": null,
            "object_position": null,
            "object_fit": null,
            "grid_auto_columns": null,
            "margin": null,
            "display": null,
            "left": null
          }
        },
        "c9ee442e9ad348b58f131a943bb2fcdb": {
          "model_module": "@jupyter-widgets/controls",
          "model_name": "DescriptionStyleModel",
          "state": {
            "_view_name": "StyleView",
            "_model_name": "DescriptionStyleModel",
            "description_width": "",
            "_view_module": "@jupyter-widgets/base",
            "_model_module_version": "1.5.0",
            "_view_count": null,
            "_view_module_version": "1.2.0",
            "_model_module": "@jupyter-widgets/controls"
          }
        },
        "5986035fc83c4df38f942a64fadad043": {
          "model_module": "@jupyter-widgets/base",
          "model_name": "LayoutModel",
          "state": {
            "_view_name": "LayoutView",
            "grid_template_rows": null,
            "right": null,
            "justify_content": null,
            "_view_module": "@jupyter-widgets/base",
            "overflow": null,
            "_model_module_version": "1.2.0",
            "_view_count": null,
            "flex_flow": null,
            "width": null,
            "min_width": null,
            "border": null,
            "align_items": null,
            "bottom": null,
            "_model_module": "@jupyter-widgets/base",
            "top": null,
            "grid_column": null,
            "overflow_y": null,
            "overflow_x": null,
            "grid_auto_flow": null,
            "grid_area": null,
            "grid_template_columns": null,
            "flex": null,
            "_model_name": "LayoutModel",
            "justify_items": null,
            "grid_row": null,
            "max_height": null,
            "align_content": null,
            "visibility": null,
            "align_self": null,
            "height": null,
            "min_height": null,
            "padding": null,
            "grid_auto_rows": null,
            "grid_gap": null,
            "max_width": null,
            "order": null,
            "_view_module_version": "1.2.0",
            "grid_template_areas": null,
            "object_position": null,
            "object_fit": null,
            "grid_auto_columns": null,
            "margin": null,
            "display": null,
            "left": null
          }
        }
      }
    }
  },
  "cells": [
    {
      "cell_type": "markdown",
      "metadata": {
        "id": "view-in-github",
        "colab_type": "text"
      },
      "source": [
        "<a href=\"https://colab.research.google.com/github/harpreetvirkk/NLP-QuestionAnswerSystem/blob/main/UIP_QnA.ipynb\" target=\"_parent\"><img src=\"https://colab.research.google.com/assets/colab-badge.svg\" alt=\"Open In Colab\"/></a>"
      ]
    },
    {
      "cell_type": "code",
      "metadata": {
        "colab": {
          "base_uri": "https://localhost:8080/"
        },
        "id": "vbYVhRx60PSR",
        "outputId": "c3f2e08f-36f1-4c10-8c76-69d027894c3c"
      },
      "source": [
        "import os\n",
        "!git clone -l -s https://github.com/harpreetvirkk/NLP-QuestionAnswerSystem rep\n",
        "%cd rep\n",
        "!ls"
      ],
      "execution_count": 1,
      "outputs": [
        {
          "output_type": "stream",
          "text": [
            "Cloning into 'rep'...\n",
            "warning: --local is ignored\n",
            "remote: Enumerating objects: 159, done.\u001b[K\n",
            "remote: Counting objects: 100% (159/159), done.\u001b[K\n",
            "remote: Compressing objects: 100% (140/140), done.\u001b[K\n",
            "remote: Total 159 (delta 17), reused 153 (delta 17), pack-reused 0\u001b[K\n",
            "Receiving objects: 100% (159/159), 1.52 MiB | 22.56 MiB/s, done.\n",
            "Resolving deltas: 100% (17/17), done.\n",
            "/content/rep\n",
            "dataset  README.md  UIP_QnA.ipynb\n"
          ],
          "name": "stdout"
        }
      ]
    },
    {
      "cell_type": "code",
      "metadata": {
        "colab": {
          "base_uri": "https://localhost:8080/"
        },
        "id": "cMmRItlo1j-X",
        "outputId": "54eb94a4-fdfb-4a12-e8e3-6d127ac5ee80"
      },
      "source": [
        "!ls dataset"
      ],
      "execution_count": 2,
      "outputs": [
        {
          "output_type": "stream",
          "text": [
            "S08_question_answer_pairs.txt  S10_question_answer_pairs.txt  text_data_toc.csv\n",
            "S09_question_answer_pairs.txt  text_data\n"
          ],
          "name": "stdout"
        }
      ]
    },
    {
      "cell_type": "code",
      "metadata": {
        "id": "qPUTb3Ny1nQC",
        "colab": {
          "base_uri": "https://localhost:8080/"
        },
        "outputId": "a3c6af2a-d17f-4d98-fd50-9b95393e60ac"
      },
      "source": [
        "import pandas as pd\n",
        "import numpy as np\n",
        "import re\n",
        "import nltk\n",
        "nltk.download('wordnet')\n",
        "import unicodedata"
      ],
      "execution_count": 3,
      "outputs": [
        {
          "output_type": "stream",
          "text": [
            "[nltk_data] Downloading package wordnet to /root/nltk_data...\n",
            "[nltk_data]   Unzipping corpora/wordnet.zip.\n"
          ],
          "name": "stdout"
        }
      ]
    },
    {
      "cell_type": "code",
      "metadata": {
        "id": "KP1gZWfI2Xr8"
      },
      "source": [
        "df1 = pd.read_csv('./dataset/S08_question_answer_pairs.txt', sep='\\t')\n",
        "df2 = pd.read_csv('./dataset/S09_question_answer_pairs.txt', sep='\\t')\n",
        "df3 = pd.read_csv('./dataset/S10_question_answer_pairs.txt', sep='\\t', encoding = 'ISO-8859-1')"
      ],
      "execution_count": 4,
      "outputs": []
    },
    {
      "cell_type": "code",
      "metadata": {
        "colab": {
          "base_uri": "https://localhost:8080/",
          "height": 538
        },
        "id": "BpFzJahy__O0",
        "outputId": "da90b94f-adf3-4b41-b7ee-b4540cbdb702"
      },
      "source": [
        "df3"
      ],
      "execution_count": 5,
      "outputs": [
        {
          "output_type": "execute_result",
          "data": {
            "text/html": [
              "<div>\n",
              "<style scoped>\n",
              "    .dataframe tbody tr th:only-of-type {\n",
              "        vertical-align: middle;\n",
              "    }\n",
              "\n",
              "    .dataframe tbody tr th {\n",
              "        vertical-align: top;\n",
              "    }\n",
              "\n",
              "    .dataframe thead th {\n",
              "        text-align: right;\n",
              "    }\n",
              "</style>\n",
              "<table border=\"1\" class=\"dataframe\">\n",
              "  <thead>\n",
              "    <tr style=\"text-align: right;\">\n",
              "      <th></th>\n",
              "      <th>ArticleTitle</th>\n",
              "      <th>Question</th>\n",
              "      <th>Answer</th>\n",
              "      <th>DifficultyFromQuestioner</th>\n",
              "      <th>DifficultyFromAnswerer</th>\n",
              "      <th>ArticleFile</th>\n",
              "    </tr>\n",
              "  </thead>\n",
              "  <tbody>\n",
              "    <tr>\n",
              "      <th>0</th>\n",
              "      <td>Alessandro_Volta</td>\n",
              "      <td>Was Alessandro Volta a professor of chemistry?</td>\n",
              "      <td>Alessandro Volta was not a professor of chemis...</td>\n",
              "      <td>easy</td>\n",
              "      <td>easy</td>\n",
              "      <td>S10_set4_a10</td>\n",
              "    </tr>\n",
              "    <tr>\n",
              "      <th>1</th>\n",
              "      <td>Alessandro_Volta</td>\n",
              "      <td>Was Alessandro Volta a professor of chemistry?</td>\n",
              "      <td>No</td>\n",
              "      <td>easy</td>\n",
              "      <td>hard</td>\n",
              "      <td>S10_set4_a10</td>\n",
              "    </tr>\n",
              "    <tr>\n",
              "      <th>2</th>\n",
              "      <td>Alessandro_Volta</td>\n",
              "      <td>Did Alessandro Volta invent the remotely opera...</td>\n",
              "      <td>Alessandro Volta did invent the remotely opera...</td>\n",
              "      <td>easy</td>\n",
              "      <td>easy</td>\n",
              "      <td>S10_set4_a10</td>\n",
              "    </tr>\n",
              "    <tr>\n",
              "      <th>3</th>\n",
              "      <td>Alessandro_Volta</td>\n",
              "      <td>Did Alessandro Volta invent the remotely opera...</td>\n",
              "      <td>Yes</td>\n",
              "      <td>easy</td>\n",
              "      <td>easy</td>\n",
              "      <td>S10_set4_a10</td>\n",
              "    </tr>\n",
              "    <tr>\n",
              "      <th>4</th>\n",
              "      <td>Alessandro_Volta</td>\n",
              "      <td>Was Alessandro Volta taught in public schools?</td>\n",
              "      <td>Volta was taught in public schools.</td>\n",
              "      <td>easy</td>\n",
              "      <td>easy</td>\n",
              "      <td>S10_set4_a10</td>\n",
              "    </tr>\n",
              "    <tr>\n",
              "      <th>...</th>\n",
              "      <td>...</td>\n",
              "      <td>...</td>\n",
              "      <td>...</td>\n",
              "      <td>...</td>\n",
              "      <td>...</td>\n",
              "      <td>...</td>\n",
              "    </tr>\n",
              "    <tr>\n",
              "      <th>1453</th>\n",
              "      <td>Zebra</td>\n",
              "      <td>What areas do the Grevy's Zebras inhabit?</td>\n",
              "      <td>NaN</td>\n",
              "      <td>hard</td>\n",
              "      <td>NaN</td>\n",
              "      <td>S10_set1_a9</td>\n",
              "    </tr>\n",
              "    <tr>\n",
              "      <th>1454</th>\n",
              "      <td>Zebra</td>\n",
              "      <td>Which species of zebra is known as the common ...</td>\n",
              "      <td>Plains Zebra (Equus quagga, formerly Equus bur...</td>\n",
              "      <td>hard</td>\n",
              "      <td>medium</td>\n",
              "      <td>S10_set1_a9</td>\n",
              "    </tr>\n",
              "    <tr>\n",
              "      <th>1455</th>\n",
              "      <td>Zebra</td>\n",
              "      <td>Which species of zebra is known as the common ...</td>\n",
              "      <td>Plains Zebra</td>\n",
              "      <td>hard</td>\n",
              "      <td>medium</td>\n",
              "      <td>S10_set1_a9</td>\n",
              "    </tr>\n",
              "    <tr>\n",
              "      <th>1456</th>\n",
              "      <td>Zebra</td>\n",
              "      <td>At what age can a zebra breed?</td>\n",
              "      <td>five or six</td>\n",
              "      <td>hard</td>\n",
              "      <td>medium</td>\n",
              "      <td>S10_set1_a9</td>\n",
              "    </tr>\n",
              "    <tr>\n",
              "      <th>1457</th>\n",
              "      <td>Zebra</td>\n",
              "      <td>At what age can a zebra breed?</td>\n",
              "      <td>5 or 6</td>\n",
              "      <td>hard</td>\n",
              "      <td>hard</td>\n",
              "      <td>S10_set1_a9</td>\n",
              "    </tr>\n",
              "  </tbody>\n",
              "</table>\n",
              "<p>1458 rows × 6 columns</p>\n",
              "</div>"
            ],
            "text/plain": [
              "          ArticleTitle  ...   ArticleFile\n",
              "0     Alessandro_Volta  ...  S10_set4_a10\n",
              "1     Alessandro_Volta  ...  S10_set4_a10\n",
              "2     Alessandro_Volta  ...  S10_set4_a10\n",
              "3     Alessandro_Volta  ...  S10_set4_a10\n",
              "4     Alessandro_Volta  ...  S10_set4_a10\n",
              "...                ...  ...           ...\n",
              "1453             Zebra  ...   S10_set1_a9\n",
              "1454             Zebra  ...   S10_set1_a9\n",
              "1455             Zebra  ...   S10_set1_a9\n",
              "1456             Zebra  ...   S10_set1_a9\n",
              "1457             Zebra  ...   S10_set1_a9\n",
              "\n",
              "[1458 rows x 6 columns]"
            ]
          },
          "metadata": {
            "tags": []
          },
          "execution_count": 5
        }
      ]
    },
    {
      "cell_type": "code",
      "metadata": {
        "colab": {
          "base_uri": "https://localhost:8080/",
          "height": 521
        },
        "id": "uSVu41Qh2byn",
        "outputId": "73696c0b-3a29-469f-fab7-fc1a2d31ef46"
      },
      "source": [
        "frames = [df1, df2, df3]\n",
        "df = pd.concat(frames)\n",
        "df"
      ],
      "execution_count": 6,
      "outputs": [
        {
          "output_type": "execute_result",
          "data": {
            "text/html": [
              "<div>\n",
              "<style scoped>\n",
              "    .dataframe tbody tr th:only-of-type {\n",
              "        vertical-align: middle;\n",
              "    }\n",
              "\n",
              "    .dataframe tbody tr th {\n",
              "        vertical-align: top;\n",
              "    }\n",
              "\n",
              "    .dataframe thead th {\n",
              "        text-align: right;\n",
              "    }\n",
              "</style>\n",
              "<table border=\"1\" class=\"dataframe\">\n",
              "  <thead>\n",
              "    <tr style=\"text-align: right;\">\n",
              "      <th></th>\n",
              "      <th>ArticleTitle</th>\n",
              "      <th>Question</th>\n",
              "      <th>Answer</th>\n",
              "      <th>DifficultyFromQuestioner</th>\n",
              "      <th>DifficultyFromAnswerer</th>\n",
              "      <th>ArticleFile</th>\n",
              "    </tr>\n",
              "  </thead>\n",
              "  <tbody>\n",
              "    <tr>\n",
              "      <th>0</th>\n",
              "      <td>Abraham_Lincoln</td>\n",
              "      <td>Was Abraham Lincoln the sixteenth President of...</td>\n",
              "      <td>yes</td>\n",
              "      <td>easy</td>\n",
              "      <td>easy</td>\n",
              "      <td>S08_set3_a4</td>\n",
              "    </tr>\n",
              "    <tr>\n",
              "      <th>1</th>\n",
              "      <td>Abraham_Lincoln</td>\n",
              "      <td>Was Abraham Lincoln the sixteenth President of...</td>\n",
              "      <td>Yes.</td>\n",
              "      <td>easy</td>\n",
              "      <td>easy</td>\n",
              "      <td>S08_set3_a4</td>\n",
              "    </tr>\n",
              "    <tr>\n",
              "      <th>2</th>\n",
              "      <td>Abraham_Lincoln</td>\n",
              "      <td>Did Lincoln sign the National Banking Act of 1...</td>\n",
              "      <td>yes</td>\n",
              "      <td>easy</td>\n",
              "      <td>medium</td>\n",
              "      <td>S08_set3_a4</td>\n",
              "    </tr>\n",
              "    <tr>\n",
              "      <th>3</th>\n",
              "      <td>Abraham_Lincoln</td>\n",
              "      <td>Did Lincoln sign the National Banking Act of 1...</td>\n",
              "      <td>Yes.</td>\n",
              "      <td>easy</td>\n",
              "      <td>easy</td>\n",
              "      <td>S08_set3_a4</td>\n",
              "    </tr>\n",
              "    <tr>\n",
              "      <th>4</th>\n",
              "      <td>Abraham_Lincoln</td>\n",
              "      <td>Did his mother die of pneumonia?</td>\n",
              "      <td>no</td>\n",
              "      <td>easy</td>\n",
              "      <td>medium</td>\n",
              "      <td>S08_set3_a4</td>\n",
              "    </tr>\n",
              "    <tr>\n",
              "      <th>...</th>\n",
              "      <td>...</td>\n",
              "      <td>...</td>\n",
              "      <td>...</td>\n",
              "      <td>...</td>\n",
              "      <td>...</td>\n",
              "      <td>...</td>\n",
              "    </tr>\n",
              "    <tr>\n",
              "      <th>1453</th>\n",
              "      <td>Zebra</td>\n",
              "      <td>What areas do the Grevy's Zebras inhabit?</td>\n",
              "      <td>NaN</td>\n",
              "      <td>hard</td>\n",
              "      <td>NaN</td>\n",
              "      <td>S10_set1_a9</td>\n",
              "    </tr>\n",
              "    <tr>\n",
              "      <th>1454</th>\n",
              "      <td>Zebra</td>\n",
              "      <td>Which species of zebra is known as the common ...</td>\n",
              "      <td>Plains Zebra (Equus quagga, formerly Equus bur...</td>\n",
              "      <td>hard</td>\n",
              "      <td>medium</td>\n",
              "      <td>S10_set1_a9</td>\n",
              "    </tr>\n",
              "    <tr>\n",
              "      <th>1455</th>\n",
              "      <td>Zebra</td>\n",
              "      <td>Which species of zebra is known as the common ...</td>\n",
              "      <td>Plains Zebra</td>\n",
              "      <td>hard</td>\n",
              "      <td>medium</td>\n",
              "      <td>S10_set1_a9</td>\n",
              "    </tr>\n",
              "    <tr>\n",
              "      <th>1456</th>\n",
              "      <td>Zebra</td>\n",
              "      <td>At what age can a zebra breed?</td>\n",
              "      <td>five or six</td>\n",
              "      <td>hard</td>\n",
              "      <td>medium</td>\n",
              "      <td>S10_set1_a9</td>\n",
              "    </tr>\n",
              "    <tr>\n",
              "      <th>1457</th>\n",
              "      <td>Zebra</td>\n",
              "      <td>At what age can a zebra breed?</td>\n",
              "      <td>5 or 6</td>\n",
              "      <td>hard</td>\n",
              "      <td>hard</td>\n",
              "      <td>S10_set1_a9</td>\n",
              "    </tr>\n",
              "  </tbody>\n",
              "</table>\n",
              "<p>3998 rows × 6 columns</p>\n",
              "</div>"
            ],
            "text/plain": [
              "         ArticleTitle  ...  ArticleFile\n",
              "0     Abraham_Lincoln  ...  S08_set3_a4\n",
              "1     Abraham_Lincoln  ...  S08_set3_a4\n",
              "2     Abraham_Lincoln  ...  S08_set3_a4\n",
              "3     Abraham_Lincoln  ...  S08_set3_a4\n",
              "4     Abraham_Lincoln  ...  S08_set3_a4\n",
              "...               ...  ...          ...\n",
              "1453            Zebra  ...  S10_set1_a9\n",
              "1454            Zebra  ...  S10_set1_a9\n",
              "1455            Zebra  ...  S10_set1_a9\n",
              "1456            Zebra  ...  S10_set1_a9\n",
              "1457            Zebra  ...  S10_set1_a9\n",
              "\n",
              "[3998 rows x 6 columns]"
            ]
          },
          "metadata": {
            "tags": []
          },
          "execution_count": 6
        }
      ]
    },
    {
      "cell_type": "code",
      "metadata": {
        "id": "O6KdEOvn2row"
      },
      "source": [
        "def getArticleText(file):\n",
        "  fpath = './dataset/text_data/'+file+'.txt.clean'\n",
        "  try:\n",
        "    f = open(fpath, 'r')\n",
        "    text = f.read()\n",
        "  except UnicodeDecodeError:\n",
        "    f = open(fpath, 'r', encoding = 'ISO-8859-1')\n",
        "    text = f.read()\n",
        "  return text"
      ],
      "execution_count": 7,
      "outputs": []
    },
    {
      "cell_type": "code",
      "metadata": {
        "colab": {
          "base_uri": "https://localhost:8080/",
          "height": 623
        },
        "id": "8QGOkVBC9vlS",
        "outputId": "6b56113f-70cd-4a03-86fa-1640f6452082"
      },
      "source": [
        "df = df.dropna(subset=['ArticleFile'])\n",
        "df['ArticleText'] = df['ArticleFile'].apply(lambda x: getArticleText(x))\n",
        "df['ArticleText'] = df['ArticleText'].apply(lambda x: re.sub(r'(\\n)+', '. ', x))\n",
        "df = df.drop(['DifficultyFromQuestioner', 'DifficultyFromAnswerer', 'ArticleFile'], axis='columns')\n",
        "df"
      ],
      "execution_count": 8,
      "outputs": [
        {
          "output_type": "stream",
          "text": [
            "/usr/local/lib/python3.6/dist-packages/ipykernel_launcher.py:2: SettingWithCopyWarning: \n",
            "A value is trying to be set on a copy of a slice from a DataFrame.\n",
            "Try using .loc[row_indexer,col_indexer] = value instead\n",
            "\n",
            "See the caveats in the documentation: https://pandas.pydata.org/pandas-docs/stable/user_guide/indexing.html#returning-a-view-versus-a-copy\n",
            "  \n",
            "/usr/local/lib/python3.6/dist-packages/ipykernel_launcher.py:3: SettingWithCopyWarning: \n",
            "A value is trying to be set on a copy of a slice from a DataFrame.\n",
            "Try using .loc[row_indexer,col_indexer] = value instead\n",
            "\n",
            "See the caveats in the documentation: https://pandas.pydata.org/pandas-docs/stable/user_guide/indexing.html#returning-a-view-versus-a-copy\n",
            "  This is separate from the ipykernel package so we can avoid doing imports until\n"
          ],
          "name": "stderr"
        },
        {
          "output_type": "execute_result",
          "data": {
            "text/html": [
              "<div>\n",
              "<style scoped>\n",
              "    .dataframe tbody tr th:only-of-type {\n",
              "        vertical-align: middle;\n",
              "    }\n",
              "\n",
              "    .dataframe tbody tr th {\n",
              "        vertical-align: top;\n",
              "    }\n",
              "\n",
              "    .dataframe thead th {\n",
              "        text-align: right;\n",
              "    }\n",
              "</style>\n",
              "<table border=\"1\" class=\"dataframe\">\n",
              "  <thead>\n",
              "    <tr style=\"text-align: right;\">\n",
              "      <th></th>\n",
              "      <th>ArticleTitle</th>\n",
              "      <th>Question</th>\n",
              "      <th>Answer</th>\n",
              "      <th>ArticleText</th>\n",
              "    </tr>\n",
              "  </thead>\n",
              "  <tbody>\n",
              "    <tr>\n",
              "      <th>0</th>\n",
              "      <td>Abraham_Lincoln</td>\n",
              "      <td>Was Abraham Lincoln the sixteenth President of...</td>\n",
              "      <td>yes</td>\n",
              "      <td>Abraham Lincoln. Abraham Lincoln (February 12,...</td>\n",
              "    </tr>\n",
              "    <tr>\n",
              "      <th>1</th>\n",
              "      <td>Abraham_Lincoln</td>\n",
              "      <td>Was Abraham Lincoln the sixteenth President of...</td>\n",
              "      <td>Yes.</td>\n",
              "      <td>Abraham Lincoln. Abraham Lincoln (February 12,...</td>\n",
              "    </tr>\n",
              "    <tr>\n",
              "      <th>2</th>\n",
              "      <td>Abraham_Lincoln</td>\n",
              "      <td>Did Lincoln sign the National Banking Act of 1...</td>\n",
              "      <td>yes</td>\n",
              "      <td>Abraham Lincoln. Abraham Lincoln (February 12,...</td>\n",
              "    </tr>\n",
              "    <tr>\n",
              "      <th>3</th>\n",
              "      <td>Abraham_Lincoln</td>\n",
              "      <td>Did Lincoln sign the National Banking Act of 1...</td>\n",
              "      <td>Yes.</td>\n",
              "      <td>Abraham Lincoln. Abraham Lincoln (February 12,...</td>\n",
              "    </tr>\n",
              "    <tr>\n",
              "      <th>4</th>\n",
              "      <td>Abraham_Lincoln</td>\n",
              "      <td>Did his mother die of pneumonia?</td>\n",
              "      <td>no</td>\n",
              "      <td>Abraham Lincoln. Abraham Lincoln (February 12,...</td>\n",
              "    </tr>\n",
              "    <tr>\n",
              "      <th>...</th>\n",
              "      <td>...</td>\n",
              "      <td>...</td>\n",
              "      <td>...</td>\n",
              "      <td>...</td>\n",
              "    </tr>\n",
              "    <tr>\n",
              "      <th>1453</th>\n",
              "      <td>Zebra</td>\n",
              "      <td>What areas do the Grevy's Zebras inhabit?</td>\n",
              "      <td>NaN</td>\n",
              "      <td>Zebra. Plains zebra. Grevy's zebra. Zebras are...</td>\n",
              "    </tr>\n",
              "    <tr>\n",
              "      <th>1454</th>\n",
              "      <td>Zebra</td>\n",
              "      <td>Which species of zebra is known as the common ...</td>\n",
              "      <td>Plains Zebra (Equus quagga, formerly Equus bur...</td>\n",
              "      <td>Zebra. Plains zebra. Grevy's zebra. Zebras are...</td>\n",
              "    </tr>\n",
              "    <tr>\n",
              "      <th>1455</th>\n",
              "      <td>Zebra</td>\n",
              "      <td>Which species of zebra is known as the common ...</td>\n",
              "      <td>Plains Zebra</td>\n",
              "      <td>Zebra. Plains zebra. Grevy's zebra. Zebras are...</td>\n",
              "    </tr>\n",
              "    <tr>\n",
              "      <th>1456</th>\n",
              "      <td>Zebra</td>\n",
              "      <td>At what age can a zebra breed?</td>\n",
              "      <td>five or six</td>\n",
              "      <td>Zebra. Plains zebra. Grevy's zebra. Zebras are...</td>\n",
              "    </tr>\n",
              "    <tr>\n",
              "      <th>1457</th>\n",
              "      <td>Zebra</td>\n",
              "      <td>At what age can a zebra breed?</td>\n",
              "      <td>5 or 6</td>\n",
              "      <td>Zebra. Plains zebra. Grevy's zebra. Zebras are...</td>\n",
              "    </tr>\n",
              "  </tbody>\n",
              "</table>\n",
              "<p>3996 rows × 4 columns</p>\n",
              "</div>"
            ],
            "text/plain": [
              "         ArticleTitle  ...                                        ArticleText\n",
              "0     Abraham_Lincoln  ...  Abraham Lincoln. Abraham Lincoln (February 12,...\n",
              "1     Abraham_Lincoln  ...  Abraham Lincoln. Abraham Lincoln (February 12,...\n",
              "2     Abraham_Lincoln  ...  Abraham Lincoln. Abraham Lincoln (February 12,...\n",
              "3     Abraham_Lincoln  ...  Abraham Lincoln. Abraham Lincoln (February 12,...\n",
              "4     Abraham_Lincoln  ...  Abraham Lincoln. Abraham Lincoln (February 12,...\n",
              "...               ...  ...                                                ...\n",
              "1453            Zebra  ...  Zebra. Plains zebra. Grevy's zebra. Zebras are...\n",
              "1454            Zebra  ...  Zebra. Plains zebra. Grevy's zebra. Zebras are...\n",
              "1455            Zebra  ...  Zebra. Plains zebra. Grevy's zebra. Zebras are...\n",
              "1456            Zebra  ...  Zebra. Plains zebra. Grevy's zebra. Zebras are...\n",
              "1457            Zebra  ...  Zebra. Plains zebra. Grevy's zebra. Zebras are...\n",
              "\n",
              "[3996 rows x 4 columns]"
            ]
          },
          "metadata": {
            "tags": []
          },
          "execution_count": 8
        }
      ]
    },
    {
      "cell_type": "code",
      "metadata": {
        "id": "WrGTq_FH-p02"
      },
      "source": [
        "def cleanQuestion(text):\n",
        "  text = str(text)\n",
        "  wnl = nltk.stem.WordNetLemmatizer()\n",
        "  text = text.lower()\n",
        "  words = re.sub(r'[^\\w\\s]', '', text).split()\n",
        "  return \" \".join([word for word in words])\n",
        "\n",
        "def cleanAnswer(text):\n",
        "  text = str(text)\n",
        "  wnl = nltk.stem.WordNetLemmatizer()\n",
        "  text = text.lower()\n",
        "  words = re.sub(r'[^\\w\\s]', '', text).split()\n",
        "  return \" \".join([word for word in words])\n",
        "\n",
        "def cleanText(text):\n",
        "  text = str(text)\n",
        "  wnl = nltk.stem.WordNetLemmatizer()\n",
        "  text = text.lower()\n",
        "  words = re.sub(r'[^\\w\\s\\.\\?]', '', text).split()\n",
        "  return \" \".join([word for word in words])"
      ],
      "execution_count": 9,
      "outputs": []
    },
    {
      "cell_type": "code",
      "metadata": {
        "id": "quUTNaRb-px7"
      },
      "source": [
        "df['Question'] = df['Question'].apply(lambda x: cleanQuestion(x))\n",
        "df['Answer'] = df['Answer'].apply(lambda x: cleanAnswer(x))\n",
        "df['ArticleText'] = df['ArticleText'].apply(lambda x: cleanText(x))"
      ],
      "execution_count": 10,
      "outputs": []
    },
    {
      "cell_type": "code",
      "metadata": {
        "colab": {
          "base_uri": "https://localhost:8080/",
          "height": 419
        },
        "id": "FkcIv7k5-pvE",
        "outputId": "2e844b57-0c4b-4570-b335-369352e26152"
      },
      "source": [
        "df"
      ],
      "execution_count": 11,
      "outputs": [
        {
          "output_type": "execute_result",
          "data": {
            "text/html": [
              "<div>\n",
              "<style scoped>\n",
              "    .dataframe tbody tr th:only-of-type {\n",
              "        vertical-align: middle;\n",
              "    }\n",
              "\n",
              "    .dataframe tbody tr th {\n",
              "        vertical-align: top;\n",
              "    }\n",
              "\n",
              "    .dataframe thead th {\n",
              "        text-align: right;\n",
              "    }\n",
              "</style>\n",
              "<table border=\"1\" class=\"dataframe\">\n",
              "  <thead>\n",
              "    <tr style=\"text-align: right;\">\n",
              "      <th></th>\n",
              "      <th>ArticleTitle</th>\n",
              "      <th>Question</th>\n",
              "      <th>Answer</th>\n",
              "      <th>ArticleText</th>\n",
              "    </tr>\n",
              "  </thead>\n",
              "  <tbody>\n",
              "    <tr>\n",
              "      <th>0</th>\n",
              "      <td>Abraham_Lincoln</td>\n",
              "      <td>was abraham lincoln the sixteenth president of...</td>\n",
              "      <td>yes</td>\n",
              "      <td>abraham lincoln. abraham lincoln february 12 1...</td>\n",
              "    </tr>\n",
              "    <tr>\n",
              "      <th>1</th>\n",
              "      <td>Abraham_Lincoln</td>\n",
              "      <td>was abraham lincoln the sixteenth president of...</td>\n",
              "      <td>yes</td>\n",
              "      <td>abraham lincoln. abraham lincoln february 12 1...</td>\n",
              "    </tr>\n",
              "    <tr>\n",
              "      <th>2</th>\n",
              "      <td>Abraham_Lincoln</td>\n",
              "      <td>did lincoln sign the national banking act of 1863</td>\n",
              "      <td>yes</td>\n",
              "      <td>abraham lincoln. abraham lincoln february 12 1...</td>\n",
              "    </tr>\n",
              "    <tr>\n",
              "      <th>3</th>\n",
              "      <td>Abraham_Lincoln</td>\n",
              "      <td>did lincoln sign the national banking act of 1863</td>\n",
              "      <td>yes</td>\n",
              "      <td>abraham lincoln. abraham lincoln february 12 1...</td>\n",
              "    </tr>\n",
              "    <tr>\n",
              "      <th>4</th>\n",
              "      <td>Abraham_Lincoln</td>\n",
              "      <td>did his mother die of pneumonia</td>\n",
              "      <td>no</td>\n",
              "      <td>abraham lincoln. abraham lincoln february 12 1...</td>\n",
              "    </tr>\n",
              "    <tr>\n",
              "      <th>...</th>\n",
              "      <td>...</td>\n",
              "      <td>...</td>\n",
              "      <td>...</td>\n",
              "      <td>...</td>\n",
              "    </tr>\n",
              "    <tr>\n",
              "      <th>1453</th>\n",
              "      <td>Zebra</td>\n",
              "      <td>what areas do the grevys zebras inhabit</td>\n",
              "      <td>nan</td>\n",
              "      <td>zebra. plains zebra. grevys zebra. zebras are ...</td>\n",
              "    </tr>\n",
              "    <tr>\n",
              "      <th>1454</th>\n",
              "      <td>Zebra</td>\n",
              "      <td>which species of zebra is known as the common ...</td>\n",
              "      <td>plains zebra equus quagga formerly equus burch...</td>\n",
              "      <td>zebra. plains zebra. grevys zebra. zebras are ...</td>\n",
              "    </tr>\n",
              "    <tr>\n",
              "      <th>1455</th>\n",
              "      <td>Zebra</td>\n",
              "      <td>which species of zebra is known as the common ...</td>\n",
              "      <td>plains zebra</td>\n",
              "      <td>zebra. plains zebra. grevys zebra. zebras are ...</td>\n",
              "    </tr>\n",
              "    <tr>\n",
              "      <th>1456</th>\n",
              "      <td>Zebra</td>\n",
              "      <td>at what age can a zebra breed</td>\n",
              "      <td>five or six</td>\n",
              "      <td>zebra. plains zebra. grevys zebra. zebras are ...</td>\n",
              "    </tr>\n",
              "    <tr>\n",
              "      <th>1457</th>\n",
              "      <td>Zebra</td>\n",
              "      <td>at what age can a zebra breed</td>\n",
              "      <td>5 or 6</td>\n",
              "      <td>zebra. plains zebra. grevys zebra. zebras are ...</td>\n",
              "    </tr>\n",
              "  </tbody>\n",
              "</table>\n",
              "<p>3996 rows × 4 columns</p>\n",
              "</div>"
            ],
            "text/plain": [
              "         ArticleTitle  ...                                        ArticleText\n",
              "0     Abraham_Lincoln  ...  abraham lincoln. abraham lincoln february 12 1...\n",
              "1     Abraham_Lincoln  ...  abraham lincoln. abraham lincoln february 12 1...\n",
              "2     Abraham_Lincoln  ...  abraham lincoln. abraham lincoln february 12 1...\n",
              "3     Abraham_Lincoln  ...  abraham lincoln. abraham lincoln february 12 1...\n",
              "4     Abraham_Lincoln  ...  abraham lincoln. abraham lincoln february 12 1...\n",
              "...               ...  ...                                                ...\n",
              "1453            Zebra  ...  zebra. plains zebra. grevys zebra. zebras are ...\n",
              "1454            Zebra  ...  zebra. plains zebra. grevys zebra. zebras are ...\n",
              "1455            Zebra  ...  zebra. plains zebra. grevys zebra. zebras are ...\n",
              "1456            Zebra  ...  zebra. plains zebra. grevys zebra. zebras are ...\n",
              "1457            Zebra  ...  zebra. plains zebra. grevys zebra. zebras are ...\n",
              "\n",
              "[3996 rows x 4 columns]"
            ]
          },
          "metadata": {
            "tags": []
          },
          "execution_count": 11
        }
      ]
    },
    {
      "cell_type": "code",
      "metadata": {
        "id": "w3PfwOPB-prp"
      },
      "source": [
        "df.to_pickle('./dataset-clean-2.pkl')\n",
        "# df = pd.read_pickle('./dataset.pkl')\n",
        "# df"
      ],
      "execution_count": 12,
      "outputs": []
    },
    {
      "cell_type": "code",
      "metadata": {
        "id": "QT-g8bNU-peP"
      },
      "source": [
        ""
      ],
      "execution_count": null,
      "outputs": []
    },
    {
      "cell_type": "code",
      "metadata": {
        "id": "r-8X-4nf-pZ-"
      },
      "source": [
        ""
      ],
      "execution_count": null,
      "outputs": []
    },
    {
      "cell_type": "code",
      "metadata": {
        "id": "v8Pa5yKC-pO0"
      },
      "source": [
        ""
      ],
      "execution_count": null,
      "outputs": []
    },
    {
      "cell_type": "code",
      "metadata": {
        "id": "cdQk4bAJs51T"
      },
      "source": [
        ""
      ],
      "execution_count": null,
      "outputs": []
    },
    {
      "cell_type": "code",
      "metadata": {
        "id": "lnn3daV_s6PF"
      },
      "source": [
        ""
      ],
      "execution_count": null,
      "outputs": []
    },
    {
      "cell_type": "code",
      "metadata": {
        "id": "hJlAKA9Ks6L5"
      },
      "source": [
        ""
      ],
      "execution_count": null,
      "outputs": []
    },
    {
      "cell_type": "code",
      "metadata": {
        "id": "yFVNrsI7s6KZ"
      },
      "source": [
        ""
      ],
      "execution_count": null,
      "outputs": []
    },
    {
      "cell_type": "code",
      "metadata": {
        "id": "2jhniLuZs6I1"
      },
      "source": [
        ""
      ],
      "execution_count": null,
      "outputs": []
    },
    {
      "cell_type": "code",
      "metadata": {
        "id": "FpWDXPtMs6Fz"
      },
      "source": [
        ""
      ],
      "execution_count": null,
      "outputs": []
    },
    {
      "cell_type": "code",
      "metadata": {
        "id": "IrJS-d0ss6BY"
      },
      "source": [
        ""
      ],
      "execution_count": null,
      "outputs": []
    },
    {
      "cell_type": "code",
      "metadata": {
        "id": "uYMirnsjs6AD"
      },
      "source": [
        ""
      ],
      "execution_count": null,
      "outputs": []
    },
    {
      "cell_type": "code",
      "metadata": {
        "id": "2HNqL_q0s58P"
      },
      "source": [
        ""
      ],
      "execution_count": null,
      "outputs": []
    },
    {
      "cell_type": "code",
      "metadata": {
        "id": "mPd_4awTs56a"
      },
      "source": [
        ""
      ],
      "execution_count": null,
      "outputs": []
    },
    {
      "cell_type": "code",
      "metadata": {
        "id": "9Q5S3kOT2l36"
      },
      "source": [
        "use_cuda = True"
      ],
      "execution_count": null,
      "outputs": []
    },
    {
      "cell_type": "code",
      "metadata": {
        "id": "VP2tSKI62svB"
      },
      "source": [
        "import numpy as np # linear algebra\n",
        "import pandas as pd # data processing, CSV file I/O (e.g. pd.read_csv)"
      ],
      "execution_count": null,
      "outputs": []
    },
    {
      "cell_type": "code",
      "metadata": {
        "id": "ZE4GSbwPAill",
        "colab": {
          "base_uri": "https://localhost:8080/"
        },
        "outputId": "9a56463c-6cd0-41b5-be77-85858047419e"
      },
      "source": [
        "!pip3 install transformers\n",
        "!pip3 install torch"
      ],
      "execution_count": null,
      "outputs": [
        {
          "output_type": "stream",
          "text": [
            "Collecting transformers\n",
            "\u001b[?25l  Downloading https://files.pythonhosted.org/packages/3a/83/e74092e7f24a08d751aa59b37a9fc572b2e4af3918cb66f7766c3affb1b4/transformers-3.5.1-py3-none-any.whl (1.3MB)\n",
            "\r\u001b[K     |▎                               | 10kB 23.4MB/s eta 0:00:01\r\u001b[K     |▌                               | 20kB 32.0MB/s eta 0:00:01\r\u001b[K     |▊                               | 30kB 15.3MB/s eta 0:00:01\r\u001b[K     |█                               | 40kB 6.6MB/s eta 0:00:01\r\u001b[K     |█▎                              | 51kB 7.4MB/s eta 0:00:01\r\u001b[K     |█▌                              | 61kB 8.7MB/s eta 0:00:01\r\u001b[K     |█▊                              | 71kB 8.4MB/s eta 0:00:01\r\u001b[K     |██                              | 81kB 9.1MB/s eta 0:00:01\r\u001b[K     |██▎                             | 92kB 7.0MB/s eta 0:00:01\r\u001b[K     |██▌                             | 102kB 6.4MB/s eta 0:00:01\r\u001b[K     |██▊                             | 112kB 6.4MB/s eta 0:00:01\r\u001b[K     |███                             | 122kB 6.4MB/s eta 0:00:01\r\u001b[K     |███▎                            | 133kB 6.4MB/s eta 0:00:01\r\u001b[K     |███▌                            | 143kB 6.4MB/s eta 0:00:01\r\u001b[K     |███▉                            | 153kB 6.4MB/s eta 0:00:01\r\u001b[K     |████                            | 163kB 6.4MB/s eta 0:00:01\r\u001b[K     |████▎                           | 174kB 6.4MB/s eta 0:00:01\r\u001b[K     |████▌                           | 184kB 6.4MB/s eta 0:00:01\r\u001b[K     |████▉                           | 194kB 6.4MB/s eta 0:00:01\r\u001b[K     |█████                           | 204kB 6.4MB/s eta 0:00:01\r\u001b[K     |█████▎                          | 215kB 6.4MB/s eta 0:00:01\r\u001b[K     |█████▌                          | 225kB 6.4MB/s eta 0:00:01\r\u001b[K     |█████▉                          | 235kB 6.4MB/s eta 0:00:01\r\u001b[K     |██████                          | 245kB 6.4MB/s eta 0:00:01\r\u001b[K     |██████▎                         | 256kB 6.4MB/s eta 0:00:01\r\u001b[K     |██████▌                         | 266kB 6.4MB/s eta 0:00:01\r\u001b[K     |██████▉                         | 276kB 6.4MB/s eta 0:00:01\r\u001b[K     |███████                         | 286kB 6.4MB/s eta 0:00:01\r\u001b[K     |███████▎                        | 296kB 6.4MB/s eta 0:00:01\r\u001b[K     |███████▋                        | 307kB 6.4MB/s eta 0:00:01\r\u001b[K     |███████▉                        | 317kB 6.4MB/s eta 0:00:01\r\u001b[K     |████████                        | 327kB 6.4MB/s eta 0:00:01\r\u001b[K     |████████▎                       | 337kB 6.4MB/s eta 0:00:01\r\u001b[K     |████████▋                       | 348kB 6.4MB/s eta 0:00:01\r\u001b[K     |████████▉                       | 358kB 6.4MB/s eta 0:00:01\r\u001b[K     |█████████                       | 368kB 6.4MB/s eta 0:00:01\r\u001b[K     |█████████▎                      | 378kB 6.4MB/s eta 0:00:01\r\u001b[K     |█████████▋                      | 389kB 6.4MB/s eta 0:00:01\r\u001b[K     |█████████▉                      | 399kB 6.4MB/s eta 0:00:01\r\u001b[K     |██████████                      | 409kB 6.4MB/s eta 0:00:01\r\u001b[K     |██████████▎                     | 419kB 6.4MB/s eta 0:00:01\r\u001b[K     |██████████▋                     | 430kB 6.4MB/s eta 0:00:01\r\u001b[K     |██████████▉                     | 440kB 6.4MB/s eta 0:00:01\r\u001b[K     |███████████                     | 450kB 6.4MB/s eta 0:00:01\r\u001b[K     |███████████▍                    | 460kB 6.4MB/s eta 0:00:01\r\u001b[K     |███████████▋                    | 471kB 6.4MB/s eta 0:00:01\r\u001b[K     |███████████▉                    | 481kB 6.4MB/s eta 0:00:01\r\u001b[K     |████████████                    | 491kB 6.4MB/s eta 0:00:01\r\u001b[K     |████████████▍                   | 501kB 6.4MB/s eta 0:00:01\r\u001b[K     |████████████▋                   | 512kB 6.4MB/s eta 0:00:01\r\u001b[K     |████████████▉                   | 522kB 6.4MB/s eta 0:00:01\r\u001b[K     |█████████████                   | 532kB 6.4MB/s eta 0:00:01\r\u001b[K     |█████████████▍                  | 542kB 6.4MB/s eta 0:00:01\r\u001b[K     |█████████████▋                  | 552kB 6.4MB/s eta 0:00:01\r\u001b[K     |█████████████▉                  | 563kB 6.4MB/s eta 0:00:01\r\u001b[K     |██████████████                  | 573kB 6.4MB/s eta 0:00:01\r\u001b[K     |██████████████▍                 | 583kB 6.4MB/s eta 0:00:01\r\u001b[K     |██████████████▋                 | 593kB 6.4MB/s eta 0:00:01\r\u001b[K     |██████████████▉                 | 604kB 6.4MB/s eta 0:00:01\r\u001b[K     |███████████████▏                | 614kB 6.4MB/s eta 0:00:01\r\u001b[K     |███████████████▍                | 624kB 6.4MB/s eta 0:00:01\r\u001b[K     |███████████████▋                | 634kB 6.4MB/s eta 0:00:01\r\u001b[K     |███████████████▉                | 645kB 6.4MB/s eta 0:00:01\r\u001b[K     |████████████████▏               | 655kB 6.4MB/s eta 0:00:01\r\u001b[K     |████████████████▍               | 665kB 6.4MB/s eta 0:00:01\r\u001b[K     |████████████████▋               | 675kB 6.4MB/s eta 0:00:01\r\u001b[K     |████████████████▉               | 686kB 6.4MB/s eta 0:00:01\r\u001b[K     |█████████████████▏              | 696kB 6.4MB/s eta 0:00:01\r\u001b[K     |█████████████████▍              | 706kB 6.4MB/s eta 0:00:01\r\u001b[K     |█████████████████▋              | 716kB 6.4MB/s eta 0:00:01\r\u001b[K     |██████████████████              | 727kB 6.4MB/s eta 0:00:01\r\u001b[K     |██████████████████▏             | 737kB 6.4MB/s eta 0:00:01\r\u001b[K     |██████████████████▍             | 747kB 6.4MB/s eta 0:00:01\r\u001b[K     |██████████████████▋             | 757kB 6.4MB/s eta 0:00:01\r\u001b[K     |███████████████████             | 768kB 6.4MB/s eta 0:00:01\r\u001b[K     |███████████████████▏            | 778kB 6.4MB/s eta 0:00:01\r\u001b[K     |███████████████████▍            | 788kB 6.4MB/s eta 0:00:01\r\u001b[K     |███████████████████▋            | 798kB 6.4MB/s eta 0:00:01\r\u001b[K     |████████████████████            | 808kB 6.4MB/s eta 0:00:01\r\u001b[K     |████████████████████▏           | 819kB 6.4MB/s eta 0:00:01\r\u001b[K     |████████████████████▍           | 829kB 6.4MB/s eta 0:00:01\r\u001b[K     |████████████████████▋           | 839kB 6.4MB/s eta 0:00:01\r\u001b[K     |█████████████████████           | 849kB 6.4MB/s eta 0:00:01\r\u001b[K     |█████████████████████▏          | 860kB 6.4MB/s eta 0:00:01\r\u001b[K     |█████████████████████▍          | 870kB 6.4MB/s eta 0:00:01\r\u001b[K     |█████████████████████▊          | 880kB 6.4MB/s eta 0:00:01\r\u001b[K     |██████████████████████          | 890kB 6.4MB/s eta 0:00:01\r\u001b[K     |██████████████████████▏         | 901kB 6.4MB/s eta 0:00:01\r\u001b[K     |██████████████████████▍         | 911kB 6.4MB/s eta 0:00:01\r\u001b[K     |██████████████████████▊         | 921kB 6.4MB/s eta 0:00:01\r\u001b[K     |███████████████████████         | 931kB 6.4MB/s eta 0:00:01\r\u001b[K     |███████████████████████▏        | 942kB 6.4MB/s eta 0:00:01\r\u001b[K     |███████████████████████▍        | 952kB 6.4MB/s eta 0:00:01\r\u001b[K     |███████████████████████▊        | 962kB 6.4MB/s eta 0:00:01\r\u001b[K     |████████████████████████        | 972kB 6.4MB/s eta 0:00:01\r\u001b[K     |████████████████████████▏       | 983kB 6.4MB/s eta 0:00:01\r\u001b[K     |████████████████████████▍       | 993kB 6.4MB/s eta 0:00:01\r\u001b[K     |████████████████████████▊       | 1.0MB 6.4MB/s eta 0:00:01\r\u001b[K     |█████████████████████████       | 1.0MB 6.4MB/s eta 0:00:01\r\u001b[K     |█████████████████████████▏      | 1.0MB 6.4MB/s eta 0:00:01\r\u001b[K     |█████████████████████████▌      | 1.0MB 6.4MB/s eta 0:00:01\r\u001b[K     |█████████████████████████▊      | 1.0MB 6.4MB/s eta 0:00:01\r\u001b[K     |██████████████████████████      | 1.1MB 6.4MB/s eta 0:00:01\r\u001b[K     |██████████████████████████▏     | 1.1MB 6.4MB/s eta 0:00:01\r\u001b[K     |██████████████████████████▌     | 1.1MB 6.4MB/s eta 0:00:01\r\u001b[K     |██████████████████████████▊     | 1.1MB 6.4MB/s eta 0:00:01\r\u001b[K     |███████████████████████████     | 1.1MB 6.4MB/s eta 0:00:01\r\u001b[K     |███████████████████████████▏    | 1.1MB 6.4MB/s eta 0:00:01\r\u001b[K     |███████████████████████████▌    | 1.1MB 6.4MB/s eta 0:00:01\r\u001b[K     |███████████████████████████▊    | 1.1MB 6.4MB/s eta 0:00:01\r\u001b[K     |████████████████████████████    | 1.1MB 6.4MB/s eta 0:00:01\r\u001b[K     |████████████████████████████▏   | 1.1MB 6.4MB/s eta 0:00:01\r\u001b[K     |████████████████████████████▌   | 1.2MB 6.4MB/s eta 0:00:01\r\u001b[K     |████████████████████████████▊   | 1.2MB 6.4MB/s eta 0:00:01\r\u001b[K     |█████████████████████████████   | 1.2MB 6.4MB/s eta 0:00:01\r\u001b[K     |█████████████████████████████▎  | 1.2MB 6.4MB/s eta 0:00:01\r\u001b[K     |█████████████████████████████▌  | 1.2MB 6.4MB/s eta 0:00:01\r\u001b[K     |█████████████████████████████▊  | 1.2MB 6.4MB/s eta 0:00:01\r\u001b[K     |██████████████████████████████  | 1.2MB 6.4MB/s eta 0:00:01\r\u001b[K     |██████████████████████████████▎ | 1.2MB 6.4MB/s eta 0:00:01\r\u001b[K     |██████████████████████████████▌ | 1.2MB 6.4MB/s eta 0:00:01\r\u001b[K     |██████████████████████████████▊ | 1.2MB 6.4MB/s eta 0:00:01\r\u001b[K     |███████████████████████████████ | 1.3MB 6.4MB/s eta 0:00:01\r\u001b[K     |███████████████████████████████▎| 1.3MB 6.4MB/s eta 0:00:01\r\u001b[K     |███████████████████████████████▌| 1.3MB 6.4MB/s eta 0:00:01\r\u001b[K     |███████████████████████████████▊| 1.3MB 6.4MB/s eta 0:00:01\r\u001b[K     |████████████████████████████████| 1.3MB 6.4MB/s eta 0:00:01\r\u001b[K     |████████████████████████████████| 1.3MB 6.4MB/s \n",
            "\u001b[?25hRequirement already satisfied: regex!=2019.12.17 in /usr/local/lib/python3.6/dist-packages (from transformers) (2019.12.20)\n",
            "Requirement already satisfied: packaging in /usr/local/lib/python3.6/dist-packages (from transformers) (20.4)\n",
            "Collecting sentencepiece==0.1.91\n",
            "\u001b[?25l  Downloading https://files.pythonhosted.org/packages/d4/a4/d0a884c4300004a78cca907a6ff9a5e9fe4f090f5d95ab341c53d28cbc58/sentencepiece-0.1.91-cp36-cp36m-manylinux1_x86_64.whl (1.1MB)\n",
            "\u001b[K     |████████████████████████████████| 1.1MB 53.6MB/s \n",
            "\u001b[?25hRequirement already satisfied: dataclasses; python_version < \"3.7\" in /usr/local/lib/python3.6/dist-packages (from transformers) (0.8)\n",
            "Collecting tokenizers==0.9.3\n",
            "\u001b[?25l  Downloading https://files.pythonhosted.org/packages/4c/34/b39eb9994bc3c999270b69c9eea40ecc6f0e97991dba28282b9fd32d44ee/tokenizers-0.9.3-cp36-cp36m-manylinux1_x86_64.whl (2.9MB)\n",
            "\u001b[K     |████████████████████████████████| 2.9MB 47.9MB/s \n",
            "\u001b[?25hRequirement already satisfied: filelock in /usr/local/lib/python3.6/dist-packages (from transformers) (3.0.12)\n",
            "Requirement already satisfied: requests in /usr/local/lib/python3.6/dist-packages (from transformers) (2.23.0)\n",
            "Requirement already satisfied: protobuf in /usr/local/lib/python3.6/dist-packages (from transformers) (3.12.4)\n",
            "Requirement already satisfied: tqdm>=4.27 in /usr/local/lib/python3.6/dist-packages (from transformers) (4.41.1)\n",
            "Requirement already satisfied: numpy in /usr/local/lib/python3.6/dist-packages (from transformers) (1.18.5)\n",
            "Collecting sacremoses\n",
            "\u001b[?25l  Downloading https://files.pythonhosted.org/packages/7d/34/09d19aff26edcc8eb2a01bed8e98f13a1537005d31e95233fd48216eed10/sacremoses-0.0.43.tar.gz (883kB)\n",
            "\u001b[K     |████████████████████████████████| 890kB 58.4MB/s \n",
            "\u001b[?25hRequirement already satisfied: pyparsing>=2.0.2 in /usr/local/lib/python3.6/dist-packages (from packaging->transformers) (2.4.7)\n",
            "Requirement already satisfied: six in /usr/local/lib/python3.6/dist-packages (from packaging->transformers) (1.15.0)\n",
            "Requirement already satisfied: urllib3!=1.25.0,!=1.25.1,<1.26,>=1.21.1 in /usr/local/lib/python3.6/dist-packages (from requests->transformers) (1.24.3)\n",
            "Requirement already satisfied: chardet<4,>=3.0.2 in /usr/local/lib/python3.6/dist-packages (from requests->transformers) (3.0.4)\n",
            "Requirement already satisfied: certifi>=2017.4.17 in /usr/local/lib/python3.6/dist-packages (from requests->transformers) (2020.11.8)\n",
            "Requirement already satisfied: idna<3,>=2.5 in /usr/local/lib/python3.6/dist-packages (from requests->transformers) (2.10)\n",
            "Requirement already satisfied: setuptools in /usr/local/lib/python3.6/dist-packages (from protobuf->transformers) (50.3.2)\n",
            "Requirement already satisfied: click in /usr/local/lib/python3.6/dist-packages (from sacremoses->transformers) (7.1.2)\n",
            "Requirement already satisfied: joblib in /usr/local/lib/python3.6/dist-packages (from sacremoses->transformers) (0.17.0)\n",
            "Building wheels for collected packages: sacremoses\n",
            "  Building wheel for sacremoses (setup.py) ... \u001b[?25l\u001b[?25hdone\n",
            "  Created wheel for sacremoses: filename=sacremoses-0.0.43-cp36-none-any.whl size=893257 sha256=f8e121536c206c77c2f1e480ac3cdf41fbfe59500a4d3e7014aeb93ee2f68fbc\n",
            "  Stored in directory: /root/.cache/pip/wheels/29/3c/fd/7ce5c3f0666dab31a50123635e6fb5e19ceb42ce38d4e58f45\n",
            "Successfully built sacremoses\n",
            "Installing collected packages: sentencepiece, tokenizers, sacremoses, transformers\n",
            "Successfully installed sacremoses-0.0.43 sentencepiece-0.1.91 tokenizers-0.9.3 transformers-3.5.1\n",
            "Requirement already satisfied: torch in /usr/local/lib/python3.6/dist-packages (1.7.0+cu101)\n",
            "Requirement already satisfied: dataclasses in /usr/local/lib/python3.6/dist-packages (from torch) (0.8)\n",
            "Requirement already satisfied: numpy in /usr/local/lib/python3.6/dist-packages (from torch) (1.18.5)\n",
            "Requirement already satisfied: future in /usr/local/lib/python3.6/dist-packages (from torch) (0.16.0)\n",
            "Requirement already satisfied: typing-extensions in /usr/local/lib/python3.6/dist-packages (from torch) (3.7.4.3)\n"
          ],
          "name": "stdout"
        }
      ]
    },
    {
      "cell_type": "code",
      "metadata": {
        "id": "6tWQJCde99os"
      },
      "source": [
        "import torch"
      ],
      "execution_count": null,
      "outputs": []
    },
    {
      "cell_type": "code",
      "metadata": {
        "colab": {
          "base_uri": "https://localhost:8080/",
          "height": 115,
          "referenced_widgets": [
            "20ddbde66adc496f91fe69d97ead0c74",
            "6289a70630764922afaa9d6f99bfc9b1",
            "54ed8a35c6c2461dbb310c41dabe6996",
            "9a77b65a98e848b9b5b77b7765de7880",
            "094215ad5def4a27ad7fbdeb49174546",
            "d91c93278dc446e39ecff2f8767dcfaa",
            "c68acb48d3e94ffa90e41eeecbcd2682",
            "aefab1c8ff544bf68f6ed989dfd68a76",
            "e590502bd1724063b7a59f360458ccb4",
            "d9008dfaac00414e9d19a9f2b9076f7f",
            "00cd51cf2f52429192b407397b9923f4",
            "6a30531a461d45bba5a3f08d1fb62853",
            "eb74b002db9946ffa57fb56efb337ed5",
            "041b164e6869410896eef47b5bf66a0e",
            "8766149384934e8a83ac674d9cbb4055",
            "d0494daddca24b418a2e237b4d996253"
          ]
        },
        "id": "vtqawLcN-EDL",
        "outputId": "207760a1-cd27-4e44-9487-0bd2687e291d"
      },
      "source": [
        "from transformers import BertForQuestionAnswering\n",
        "\n",
        "model = BertForQuestionAnswering.from_pretrained('bert-large-uncased-whole-word-masking-finetuned-squad')"
      ],
      "execution_count": null,
      "outputs": [
        {
          "output_type": "display_data",
          "data": {
            "application/vnd.jupyter.widget-view+json": {
              "model_id": "20ddbde66adc496f91fe69d97ead0c74",
              "version_minor": 0,
              "version_major": 2
            },
            "text/plain": [
              "HBox(children=(FloatProgress(value=0.0, description='Downloading', max=443.0, style=ProgressStyle(description_…"
            ]
          },
          "metadata": {
            "tags": []
          }
        },
        {
          "output_type": "stream",
          "text": [
            "\n"
          ],
          "name": "stdout"
        },
        {
          "output_type": "display_data",
          "data": {
            "application/vnd.jupyter.widget-view+json": {
              "model_id": "e590502bd1724063b7a59f360458ccb4",
              "version_minor": 0,
              "version_major": 2
            },
            "text/plain": [
              "HBox(children=(FloatProgress(value=0.0, description='Downloading', max=1340675298.0, style=ProgressStyle(descr…"
            ]
          },
          "metadata": {
            "tags": []
          }
        },
        {
          "output_type": "stream",
          "text": [
            "\n"
          ],
          "name": "stdout"
        }
      ]
    },
    {
      "cell_type": "code",
      "metadata": {
        "colab": {
          "base_uri": "https://localhost:8080/",
          "height": 66,
          "referenced_widgets": [
            "92d5a824c45642be9564f149bbc38b6f",
            "7371345c392948ec9ff05f52e205277b",
            "52f10773b35b418d85acd2fb76d907ee",
            "a4d65ec6717e420c8dae22a47e1f1299",
            "b07d31b7a5ef4a6b966c6894a582739e",
            "c9a7cf34373b4f0ea740048454adb9d7",
            "c9ee442e9ad348b58f131a943bb2fcdb",
            "5986035fc83c4df38f942a64fadad043"
          ]
        },
        "id": "ymioSsxk-HuD",
        "outputId": "8f7326b6-aa06-4e12-d573-6b6a605149f6"
      },
      "source": [
        "from transformers import BertTokenizer\n",
        "\n",
        "tokenizer = BertTokenizer.from_pretrained('bert-large-uncased-whole-word-masking-finetuned-squad')"
      ],
      "execution_count": null,
      "outputs": [
        {
          "output_type": "display_data",
          "data": {
            "application/vnd.jupyter.widget-view+json": {
              "model_id": "92d5a824c45642be9564f149bbc38b6f",
              "version_minor": 0,
              "version_major": 2
            },
            "text/plain": [
              "HBox(children=(FloatProgress(value=0.0, description='Downloading', max=231508.0, style=ProgressStyle(descripti…"
            ]
          },
          "metadata": {
            "tags": []
          }
        },
        {
          "output_type": "stream",
          "text": [
            "\n"
          ],
          "name": "stdout"
        }
      ]
    },
    {
      "cell_type": "code",
      "metadata": {
        "colab": {
          "base_uri": "https://localhost:8080/"
        },
        "id": "pGbTI7gS-NaL",
        "outputId": "3b53e55b-e196-4b4d-b5d9-4e32a5407524"
      },
      "source": [
        "print(tokenizer.sep_token_id)"
      ],
      "execution_count": null,
      "outputs": [
        {
          "output_type": "stream",
          "text": [
            "102\n"
          ],
          "name": "stdout"
        }
      ]
    },
    {
      "cell_type": "code",
      "metadata": {
        "id": "w9Pxd3sE-Qbz"
      },
      "source": [
        "def print_score_graph(start_scores, end_scores, tokens):\n",
        "    import matplotlib.pyplot as plt\n",
        "    import seaborn as sns\n",
        "    \n",
        "    # Pull the scores out of PyTorch Tensors and convert them to 1D numpy arrays.\n",
        "    s_scores = start_scores.detach().numpy().flatten()\n",
        "    e_scores = end_scores.detach().numpy().flatten()\n",
        "\n",
        "    # We'll use the tokens as the x-axis labels. In order to do that, they all need\n",
        "    # to be unique, so we'll add the token index to the end of each one.\n",
        "    token_labels = []\n",
        "    for (i, token) in enumerate(tokens):\n",
        "        token_labels.append('{:} - {:>2}'.format(token, i))\n",
        "\n",
        "\n",
        "    # Use plot styling from seaborn.\n",
        "    sns.set(style='darkgrid')\n",
        "\n",
        "    # Increase the plot size and font size.\n",
        "    #sns.set(font_scale=1.5)\n",
        "    plt.rcParams[\"figure.figsize\"] = (24,8)\n",
        "    \n",
        "    # Create a barplot showing the start word score for all of the tokens.\n",
        "    ax = sns.barplot(x=token_labels, y=s_scores, ci=None)\n",
        "\n",
        "    # Turn the xlabels vertical.\n",
        "    ax.set_xticklabels(ax.get_xticklabels(), rotation=90, ha=\"center\")\n",
        "\n",
        "    # Turn on the vertical grid to help align words to scores.\n",
        "    ax.grid(True)\n",
        "\n",
        "    plt.title('Start Word Scores')\n",
        "\n",
        "    plt.show()"
      ],
      "execution_count": null,
      "outputs": []
    },
    {
      "cell_type": "code",
      "metadata": {
        "id": "2qjOjKHs-TDC"
      },
      "source": [
        "def stock_chat_bot(question, passage):\n",
        "    # ====Tokenize====\n",
        "    # Apply tokenizer to input text and treat them as a pair\n",
        "    input_ids = tokenizer.encode(question, passage)\n",
        "    \n",
        "    # Printing the length of sequence\n",
        "    print('Query has {} tokens.'.format(len(input_ids)))\n",
        "    \n",
        "    # ====Set Segment IDs====\n",
        "    # Search for the first instance of segment ID\n",
        "    sep_index = input_ids.index(tokenizer.sep_token_id)\n",
        "    \n",
        "    # Segment A token : The Question\n",
        "    num_seg_a = sep_index+1\n",
        "    \n",
        "    # Segment B token : The Answer\n",
        "    num_seg_b = len(input_ids) - num_seg_a\n",
        "    \n",
        "    # Constructing list of 0s and 1s\n",
        "    # 0s of Segment A and 1s for Segment B\n",
        "    segment_ids = [0]*num_seg_a + [1]*num_seg_b\n",
        "    \n",
        "    # There should be a segment id for every input token\n",
        "    assert len(segment_ids) == len(input_ids)\n",
        "    \n",
        "    start_scores, end_scores = model(torch.tensor([input_ids]), # input text token\n",
        "                                    token_type_ids = torch.tensor([segment_ids])) # differentiates between question and answer text\n",
        "    \n",
        "    # ==== Reconstruct Answer ====\n",
        "    # print the answer with max start and end scores\n",
        "    answer_start = torch.argmax(start_scores)\n",
        "    answer_end = torch.argmax(end_scores)\n",
        "    \n",
        "    # Get the string version of input tokens\n",
        "    tokens = tokenizer.convert_ids_to_tokens(input_ids)\n",
        "    \n",
        "    answer = tokens[answer_start]\n",
        "    \n",
        "    for i in range(answer_start+1, answer_end+1):\n",
        "        if tokens[i][0:2] == '##':\n",
        "            answer += tokens[i][2:]\n",
        "        else:\n",
        "            answer += ' '+tokens[i]\n",
        "    \n",
        "    print_score_graph(start_scores, end_scores, tokens)\n",
        "    \n",
        "    print('Answer : ', answer)"
      ],
      "execution_count": null,
      "outputs": []
    },
    {
      "cell_type": "code",
      "metadata": {
        "colab": {
          "base_uri": "https://localhost:8080/"
        },
        "id": "YrLxRlb--Wz9",
        "outputId": "c2221bea-51b1-477f-b0d9-44172c54f05f"
      },
      "source": [
        "import textwrap\n",
        "\n",
        "# Wrap text to 80 characters.\n",
        "wrapper = textwrap.TextWrapper(width=80) \n",
        "\n",
        "# sample report taken from economic times on corona virus\n",
        "# https://economictimes.indiatimes.com/markets/coronavirus-impact-on-stock-market\n",
        "\n",
        "bert_abstract = \"The coronavirus outbreak, which was first detected in China, has infected people in 185 countries. Its spread has left businesses around the world counting the costs.Here is a selection of maps and charts to help you understand the economic impact of the virus so far.Global shares take a hit. Big shifts in stock markets, where shares in companies are bought and sold, can affect the value of pensions or individual savings accounts (ISAs). The FTSE, Dow Jones Industrial Average and the Nikkei have all seen huge falls since the outbreak began on 31 December. The Dow and the FTSE saw their biggest quarterly drops in the first three months of the year since 1987 due to corona pandemic. Investors fear the spread of the coronavirus will destroy economic growth and that government action may not be enough to stop the decline.In response, central banks in many countries, including the United Kingdom, slashed interest rates due to corona pandemic.That should, in theory, make borrowing cheaper and encourage spending to boost the economy.\"\n",
        "print(wrapper.fill(bert_abstract))"
      ],
      "execution_count": null,
      "outputs": [
        {
          "output_type": "stream",
          "text": [
            "The coronavirus outbreak, which was first detected in China, has infected people\n",
            "in 185 countries. Its spread has left businesses around the world counting the\n",
            "costs.Here is a selection of maps and charts to help you understand the economic\n",
            "impact of the virus so far.Global shares take a hit. Big shifts in stock\n",
            "markets, where shares in companies are bought and sold, can affect the value of\n",
            "pensions or individual savings accounts (ISAs). The FTSE, Dow Jones Industrial\n",
            "Average and the Nikkei have all seen huge falls since the outbreak began on 31\n",
            "December. The Dow and the FTSE saw their biggest quarterly drops in the first\n",
            "three months of the year since 1987 due to corona pandemic. Investors fear the\n",
            "spread of the coronavirus will destroy economic growth and that government\n",
            "action may not be enough to stop the decline.In response, central banks in many\n",
            "countries, including the United Kingdom, slashed interest rates due to corona\n",
            "pandemic.That should, in theory, make borrowing cheaper and encourage spending\n",
            "to boost the economy.\n"
          ],
          "name": "stdout"
        }
      ]
    },
    {
      "cell_type": "code",
      "metadata": {
        "colab": {
          "base_uri": "https://localhost:8080/",
          "height": 570
        },
        "id": "80O94aEe-Zcj",
        "outputId": "8e306354-a099-401f-e0b9-e0e9d7b3b3e0"
      },
      "source": [
        "question = \"What is the impact of coronavirus on Dow Jones Industrial Average?\"\n",
        "\n",
        "stock_chat_bot(df['Question'].iloc[3993], df['ArticleText'].iloc[3993][3300:5000])\n",
        "# stock_chat_bot(question, bert_abstract)"
      ],
      "execution_count": null,
      "outputs": [
        {
          "output_type": "stream",
          "text": [
            "Query has 394 tokens.\n"
          ],
          "name": "stdout"
        },
        {
          "output_type": "display_data",
          "data": {
            "image/png": "[encoded data removed]",
            "text/plain": [
              "<Figure size 1728x576 with 1 Axes>"
            ]
          },
          "metadata": {
            "tags": []
          }
        },
        {
          "output_type": "stream",
          "text": [
            "Answer :  plains zebra equus quagga\n"
          ],
          "name": "stdout"
        }
      ]
    },
    {
      "cell_type": "code",
      "metadata": {
        "id": "1l80sBhq-cdK"
      },
      "source": [
        "# df['ArticleText'].iloc[0]"
      ],
      "execution_count": null,
      "outputs": []
    },
    {
      "cell_type": "code",
      "metadata": {
        "colab": {
          "base_uri": "https://localhost:8080/",
          "height": 35
        },
        "id": "xaH5X5zY-zvM",
        "outputId": "0dec9466-47d4-4e44-b652-ff7763191135"
      },
      "source": [
        "df['Question'].iloc[3993]"
      ],
      "execution_count": null,
      "outputs": [
        {
          "output_type": "execute_result",
          "data": {
            "application/vnd.google.colaboratory.intrinsic+json": {
              "type": "string"
            },
            "text/plain": [
              "'which species of zebra is known as the common zebra'"
            ]
          },
          "metadata": {
            "tags": []
          },
          "execution_count": 72
        }
      ]
    },
    {
      "cell_type": "code",
      "metadata": {
        "colab": {
          "base_uri": "https://localhost:8080/",
          "height": 137
        },
        "id": "OGZJdgDX_WSQ",
        "outputId": "2e9a6d8f-8c33-4f83-fddf-013999616c42"
      },
      "source": [
        "dfn['ArticleText'].iloc[36][3000:5000]"
      ],
      "execution_count": null,
      "outputs": [
        {
          "output_type": "execute_result",
          "data": {
            "application/vnd.google.colaboratory.intrinsic+json": {
              "type": "string"
            },
            "text/plain": [
              "'finition of republicanism. as diggins explains lincoln presented americans a theory of history that offers a profound contribution to the theory and destiny of republicanism itself. john patrick diggins the lost soul of american politics virtue selfinterest and the foundations of liberalism 1986 p. 307. foner 1970 p. 215 noted that lincoln stressed the moral basis of republicanism. jaffa 2000 p. 399 stresses lincolns emphasis on the declaration of independence as what lincoln called the sheet anchor of republicanism. see also mcpherson 1992 pp.6164. abraham lincoln was born on february 12 1809 to thomas lincoln and nancy hanks two uneducated farmers. lincoln was born in a oneroom log cabin on the sinking spring farm in southeast hardin county kentucky now part of larue county. this area was at the time considered the frontier. the name abraham was chosen to commemorate his grandfather who was killed in an american indian raid in 1786. donald 1995 p 21 his elder sister sarah lincoln was born in 1807 a younger brother thomas jr died in infancy. it is sometimes debated whether lincoln had marfan syndrome an autosomal dominant disorder of the connective tissue characterized by long limbs and great physical stature. marfan syndrome introduction aug 1 2006 symbolic log cabin at abraham lincoln birthplace national historic site. for some time thomas lincoln was a respected and relatively affluent citizen of the kentucky back country. he had purchased the sinking spring farm in december of 1808 for 200 cash and assumption of a debt. the farm site is now preserved as part of abraham lincoln birthplace national historic site. the family belonged to a baptist church that had seceded from a larger church over the issue of slavery. though lincoln was exposed to his parents antislavery sentiment from a very young age he never joined their church or any other church for that matter. as a youth he had little use for religion. life of abraham lincoln colonel ward h. lamon 1872 porti'"
            ]
          },
          "metadata": {
            "tags": []
          },
          "execution_count": 75
        }
      ]
    },
    {
      "cell_type": "code",
      "metadata": {
        "colab": {
          "base_uri": "https://localhost:8080/",
          "height": 283
        },
        "id": "qeyJdUDlDydy",
        "outputId": "2c4f4e3c-5020-43c3-ee3f-db18de9de01f"
      },
      "source": [
        "df['Answer'].isnan"
      ],
      "execution_count": null,
      "outputs": [
        {
          "output_type": "error",
          "ename": "AttributeError",
          "evalue": "ignored",
          "traceback": [
            "\u001b[0;31m---------------------------------------------------------------------------\u001b[0m",
            "\u001b[0;31mAttributeError\u001b[0m                            Traceback (most recent call last)",
            "\u001b[0;32m<ipython-input-39-c851f16d87e8>\u001b[0m in \u001b[0;36m<module>\u001b[0;34m()\u001b[0m\n\u001b[0;32m----> 1\u001b[0;31m \u001b[0mdf\u001b[0m\u001b[0;34m[\u001b[0m\u001b[0;34m'Answer'\u001b[0m\u001b[0;34m]\u001b[0m\u001b[0;34m.\u001b[0m\u001b[0misnan\u001b[0m\u001b[0;34m\u001b[0m\u001b[0;34m\u001b[0m\u001b[0m\n\u001b[0m",
            "\u001b[0;32m/usr/local/lib/python3.6/dist-packages/pandas/core/generic.py\u001b[0m in \u001b[0;36m__getattr__\u001b[0;34m(self, name)\u001b[0m\n\u001b[1;32m   5137\u001b[0m             \u001b[0;32mif\u001b[0m \u001b[0mself\u001b[0m\u001b[0;34m.\u001b[0m\u001b[0m_info_axis\u001b[0m\u001b[0;34m.\u001b[0m\u001b[0m_can_hold_identifiers_and_holds_name\u001b[0m\u001b[0;34m(\u001b[0m\u001b[0mname\u001b[0m\u001b[0;34m)\u001b[0m\u001b[0;34m:\u001b[0m\u001b[0;34m\u001b[0m\u001b[0;34m\u001b[0m\u001b[0m\n\u001b[1;32m   5138\u001b[0m                 \u001b[0;32mreturn\u001b[0m \u001b[0mself\u001b[0m\u001b[0;34m[\u001b[0m\u001b[0mname\u001b[0m\u001b[0;34m]\u001b[0m\u001b[0;34m\u001b[0m\u001b[0;34m\u001b[0m\u001b[0m\n\u001b[0;32m-> 5139\u001b[0;31m             \u001b[0;32mreturn\u001b[0m \u001b[0mobject\u001b[0m\u001b[0;34m.\u001b[0m\u001b[0m__getattribute__\u001b[0m\u001b[0;34m(\u001b[0m\u001b[0mself\u001b[0m\u001b[0;34m,\u001b[0m \u001b[0mname\u001b[0m\u001b[0;34m)\u001b[0m\u001b[0;34m\u001b[0m\u001b[0;34m\u001b[0m\u001b[0m\n\u001b[0m\u001b[1;32m   5140\u001b[0m \u001b[0;34m\u001b[0m\u001b[0m\n\u001b[1;32m   5141\u001b[0m     \u001b[0;32mdef\u001b[0m \u001b[0m__setattr__\u001b[0m\u001b[0;34m(\u001b[0m\u001b[0mself\u001b[0m\u001b[0;34m,\u001b[0m \u001b[0mname\u001b[0m\u001b[0;34m:\u001b[0m \u001b[0mstr\u001b[0m\u001b[0;34m,\u001b[0m \u001b[0mvalue\u001b[0m\u001b[0;34m)\u001b[0m \u001b[0;34m->\u001b[0m \u001b[0;32mNone\u001b[0m\u001b[0;34m:\u001b[0m\u001b[0;34m\u001b[0m\u001b[0;34m\u001b[0m\u001b[0m\n",
            "\u001b[0;31mAttributeError\u001b[0m: 'Series' object has no attribute 'isnan'"
          ]
        }
      ]
    },
    {
      "cell_type": "code",
      "metadata": {
        "id": "e00WuxV2t4OA"
      },
      "source": [
        ""
      ],
      "execution_count": null,
      "outputs": []
    }
  ]
}